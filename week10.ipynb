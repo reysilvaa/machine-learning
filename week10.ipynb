{
  "cells": [
    {
      "cell_type": "markdown",
      "metadata": {
        "id": "view-in-github",
        "colab_type": "text"
      },
      "source": [
        "<a href=\"https://colab.research.google.com/github/reysilvaa/machine-learning/blob/main/week10.ipynb\" target=\"_parent\"><img src=\"https://colab.research.google.com/assets/colab-badge.svg\" alt=\"Open In Colab\"/></a>"
      ]
    },
    {
      "cell_type": "markdown",
      "metadata": {
        "id": "sBn-roWCxcx1"
      },
      "source": [
        "## Praktikum 1\n",
        "\n",
        "RNN untuk Analisis Sentimen"
      ]
    },
    {
      "cell_type": "markdown",
      "metadata": {
        "id": "ENegaFPtxlh3"
      },
      "source": [
        "## Setup\n",
        "Impor matplotlib dan buat fungsi pembantu untuk memplot grafik:"
      ]
    },
    {
      "cell_type": "code",
      "execution_count": null,
      "metadata": {
        "id": "yXk4YxxWp38_"
      },
      "outputs": [],
      "source": [
        "\n",
        "import numpy as np\n",
        "import tensorflow_datasets as tfds\n",
        "import tensorflow as tf\n",
        "\n",
        "tfds.disable_progress_bar()\n"
      ]
    },
    {
      "cell_type": "code",
      "execution_count": null,
      "metadata": {
        "id": "gdmOKdqSqBhJ"
      },
      "outputs": [],
      "source": [
        "\n",
        "import matplotlib.pyplot as plt\n",
        "\n",
        "def plot_graphs(history, metric):\n",
        "  plt.plot(history.history[metric])\n",
        "  plt.plot(history.history['val_'+metric], '')\n",
        "  plt.xlabel(\"Epochs\")\n",
        "  plt.ylabel(metric)\n",
        "  plt.legend([metric, 'val_'+metric])"
      ]
    },
    {
      "cell_type": "markdown",
      "metadata": {
        "id": "6iK1mxt0xqKY"
      },
      "source": [
        "## Setup input pipeline\n",
        "Dataset ulasan film IMDB adalah kumpulan data klasifikasi biner—semua ulasan memiliki sentimen positif atau negatif.\n",
        "\n",
        "Download dataset menggunakan TFDS. Lihat loading text tutorial jika ingin me load data secara manual"
      ]
    },
    {
      "cell_type": "code",
      "execution_count": null,
      "metadata": {
        "colab": {
          "base_uri": "https://localhost:8080/"
        },
        "id": "RxvpiW-jqRrI",
        "outputId": "de920c4c-a0c6-4f6b-a9cc-960b82278d06"
      },
      "outputs": [
        {
          "name": "stdout",
          "output_type": "stream",
          "text": [
            "Downloading and preparing dataset 80.23 MiB (download: 80.23 MiB, generated: Unknown size, total: 80.23 MiB) to /root/tensorflow_datasets/imdb_reviews/plain_text/1.0.0...\n",
            "Dataset imdb_reviews downloaded and prepared to /root/tensorflow_datasets/imdb_reviews/plain_text/1.0.0. Subsequent calls will reuse this data.\n"
          ]
        },
        {
          "data": {
            "text/plain": [
              "(TensorSpec(shape=(), dtype=tf.string, name=None),\n",
              " TensorSpec(shape=(), dtype=tf.int64, name=None))"
            ]
          },
          "execution_count": 3,
          "metadata": {},
          "output_type": "execute_result"
        }
      ],
      "source": [
        "\n",
        "dataset, info = tfds.load('imdb_reviews', with_info=True,\n",
        "                          as_supervised=True)\n",
        "train_dataset, test_dataset = dataset['train'], dataset['test']\n",
        "\n",
        "train_dataset.element_spec"
      ]
    },
    {
      "cell_type": "markdown",
      "metadata": {
        "id": "SJU3ANB8xsnh"
      },
      "source": [
        "Awalnya ini mengembalikan dataset (teks, pasangan label):"
      ]
    },
    {
      "cell_type": "code",
      "execution_count": null,
      "metadata": {
        "colab": {
          "base_uri": "https://localhost:8080/"
        },
        "id": "usxyPz2cqZbq",
        "outputId": "8ea78b43-fe48-4b87-cc15-dedf7df5af29"
      },
      "outputs": [
        {
          "name": "stdout",
          "output_type": "stream",
          "text": [
            "text:  b\"This was an absolutely terrible movie. Don't be lured in by Christopher Walken or Michael Ironside. Both are great actors, but this must simply be their worst role in history. Even their great acting could not redeem this movie's ridiculous storyline. This movie is an early nineties US propaganda piece. The most pathetic scenes were those when the Columbian rebels were making their cases for revolutions. Maria Conchita Alonso appeared phony, and her pseudo-love affair with Walken was nothing but a pathetic emotional plug in a movie that was devoid of any real meaning. I am disappointed that there are movies like this, ruining actor's like Christopher Walken's good name. I could barely sit through it.\"\n",
            "label:  0\n"
          ]
        }
      ],
      "source": [
        "\n",
        "for example, label in train_dataset.take(1):\n",
        "  print('text: ', example.numpy())\n",
        "  print('label: ', label.numpy())"
      ]
    },
    {
      "cell_type": "markdown",
      "metadata": {
        "id": "aOzMnrjexwar"
      },
      "source": [
        "Berikutnya acak data untuk pelatihan dan membuat kumpulan pasangan (teks, label) ini:"
      ]
    },
    {
      "cell_type": "code",
      "execution_count": null,
      "metadata": {
        "colab": {
          "base_uri": "https://localhost:8080/"
        },
        "id": "_SKGDFBlqcdA",
        "outputId": "17dcd24e-ff3a-487d-e0a0-1a69b027051c"
      },
      "outputs": [
        {
          "name": "stdout",
          "output_type": "stream",
          "text": [
            "texts:  [b\"Oh my gosh i live in Kentucky and when Mellisa Joan hart came to Louisville she went right through my neighborhood and waved at me i am filthy rich so she wanted to look at my neighborhood oh and i Love being rich any ways she came for the Derby back to my interest in the show...... that show makes you want to point your finger at something and make it disappear i mean it is just so creative and i love it i would love to be on that show....... that show is just amazing i mean who ever came up with that show i want to just give them a big kiss i mean it makes me feel better when I'm sick and makes me happy when I'm mad i mean if someone tells me they don't like it i will talk some sense in to you OK OK\"\n",
            " b\"The film concerns a classic theme. In fact it concerns the theme exploited by Batman, from beginning to end, but in real data and details. The mayor of New York, appreciated and very diligent and dynamic, in order to get some project through slightly faster than normal, yields to some pressure from some private business contractors about a criminal drug dealer who should have been sent and kept in prison and he pressurizes the judge in his turn to set him free on probation in spite of a negative probation report that disappears but is not destroyed, be it only because of the political value it represents. And what was to happen happens and a few people, including a black schoolboy is killed in a shoot out between a police detective and that criminal. The city may explode because of it: racial tension because of the black school boy and social tension because of the insecurity such criminals free to roam around and go on with their criminal activities represent to the public. Unluckily the film does not show that tension very well and follows the investigation of the first deputy mayor who wants to find out the truth and does find it out. But along the way a few witnesses are killed, and those who had played some role in the whole business are forced to retire (the judge), to end their career and life (the contractor or the contractor's go between), a public officer who was ready to deliver the disappeared probation report, and some shady character after he provides some crucial information. The mayor himself retires and takes a long vacation; But the main interest of the film is in the exploration of the contortions the mayor is doing to cover up the problem and the contortions he remembers having done in the past that led to the mistake about this probation case. The political philosophy that nothing is pure white or pure black and that everything is grey which is never comfortable to decision makers is invoked as an excuse for wrong but profitable decisions. We are not speaking of necessary compromises to get to some consensus in some domains that are crucial to public interest. We are speaking of considering as less important to take a bad decision about some petty or supposedly petty criminal than some infrastructure or economic project in the city. That is not typical of New York. That is true in any mayoral office. It is just more significant in quantity and in quality in a big metropolitan area like New York and of course in a city or country where police departments are municipal and are controlled by political imperatives. The young deputy mayor is thus pushing the old mayor out of the way, and he derails his ambition to be the governor of New York in order to become the president of the US. The mayor is perfect due to the embodiment Al Pacino offers us since he is able to express ten minutes of dialogue with one facial expression that makes the whole dialogue useless. I find the end slightly mushy with the ex-deputy mayor campaigning in his own name. That seems to mean that he was so attached to justice because he saw his chance to push the mayor out of his own way. Hence he is not better than all the others, just still too young in his ambition.<br /><br />Dr Jacques COULARDEAU, University Paris Dauphine, University Paris 1 Pantheon Sorbonne & University Versailles Saint Quentin en Yvelines\"\n",
            " b'In an attempt to cash in on the success of Universal\\'s horror films Majestic Pictures hired several popular actors from the current genre and put them in this effort that (realistically speaking) is nowhere near as good. With that, this is still worth everyone\\'s time and it\\'s a heck of a lot of fun to view and in my opinion it\\'s better than most of what is supposed to pass nowadays as horror! Story takes place in the small German town of Klineschloss where the bodies have been piling up completely drained of blood and with suspicious puncture marks. Burgermister Gustave Schoen (Lionel Belmore) shouts \"It\\'s Vampires\" but the local police chief Karl Brettschneider (Melvyn Douglas) thinks it\\'s a madman who\\'s responsible and he vows to catch him.<br /><br />*****SPOILER ALERT***** The Burgermeister and most of the towns folk think that the local kook Herman Glieb (Dwight Frye) who loves bats and frequently talks to them is the one they are looking for and they chase him until he falls to his death in a cave. The one who is responsible for the killings is Dr. Otto von Niemann (Lionel Atwill) who has created a new form of tissue mass that feeds on blood and he accomplishes this by having some sort of mind control over his servant Emil (Robert Frazer) who goes out at night to collect the blood. Dr. Otto has a pretty assistant named Ruth Bertin (Fay Wray) and an annoying aunt named Gussie (Maude Eburne) but they have no clue what he\\'s up to but Karl eventually become suspicious when one of the murders takes place after Herman\\'s death.<br /><br />Frank R. Strayer was never confused with being James Whale but he was a pretty competent director who ended up directing most of the \"Blondie\" films in that series and with this film he uses the same sets from \"The Old Dark House\" which was also filmed at Universal. I\\'m the first to admit that this film is downright clumsy at times but it\\'s practically impossible to resist a film that has a cast like this including Frye who is pretty much doing his Renfield role only this time he befriends bats and strokes them and keeps them in his pocket for safe keeping! One thing that just doesn\\'t make sense is the mind control that Dr. Otto has over Emil as the film never explains this and I had a strong sense that this was some sort of nod to \"The Cabinet of Dr. Caligari\" but on the other hand it\\'s probably just the weakest part of the script. There are a few other tidbits that I noticed including the chase of Frye to the big caves which is obviously an early shot of the infamous Bronson Canyon where numerous other films have been made and also Wray\\'s brown hair which is her true color. True horror film fans will appreciate this more than others but I think this is a fun film to view for everyone and with a cast as attractive as this it\\'s well worth a look.']\n",
            "\n",
            "labels:  [1 1 1]\n"
          ]
        }
      ],
      "source": [
        "\n",
        "BUFFER_SIZE = 10000\n",
        "BATCH_SIZE = 64\n",
        "\n",
        "train_dataset = train_dataset.shuffle(BUFFER_SIZE).batch(BATCH_SIZE).prefetch(tf.data.AUTOTUNE)\n",
        "test_dataset = test_dataset.batch(BATCH_SIZE).prefetch(tf.data.AUTOTUNE)\n",
        "\n",
        "for example, label in train_dataset.take(1):\n",
        "  print('texts: ', example.numpy()[:3])\n",
        "  print()\n",
        "  print('labels: ', label.numpy()[:3])"
      ]
    },
    {
      "cell_type": "markdown",
      "metadata": {
        "id": "WM-axSK5xyY-"
      },
      "source": [
        "## Buat Teks Encoder\n",
        "Teks mentah yang dimuat oleh tfds perlu diproses sebelum dapat digunakan dalam model. Cara termudah memproses teks untuk pelatihan adalah menggunakan lapisan TextVectorization. Lapisan ini memiliki banyak kemampuan, namun pada tutorial ini menggunakan perilaku default. Buat lapisan tersebut, dan teruskan teks kumpulan data ke metode .adapt lapisan:"
      ]
    },
    {
      "cell_type": "code",
      "execution_count": null,
      "metadata": {
        "id": "zaQVsEXPqexT"
      },
      "outputs": [],
      "source": [
        "\n",
        "VOCAB_SIZE = 1000\n",
        "encoder = tf.keras.layers.TextVectorization(\n",
        "    max_tokens=VOCAB_SIZE)\n",
        "encoder.adapt(train_dataset.map(lambda text, label: text))"
      ]
    },
    {
      "cell_type": "markdown",
      "metadata": {
        "id": "ShMVioTOx1w9"
      },
      "source": [
        "Metode .adapt mengatur kosakata lapisan. 20 token pertama dapat dilihat dengan kode berikut. Setelah padding dan token yang tidak diketahui, mereka diurutkan berdasarkan frekuensi:"
      ]
    },
    {
      "cell_type": "code",
      "execution_count": null,
      "metadata": {
        "colab": {
          "base_uri": "https://localhost:8080/"
        },
        "id": "Jm69QLO1qhHw",
        "outputId": "c37eb98b-3fd9-4642-f3af-ef35671e9b25"
      },
      "outputs": [
        {
          "data": {
            "text/plain": [
              "array(['', '[UNK]', 'the', 'and', 'a', 'of', 'to', 'is', 'in', 'it', 'i',\n",
              "       'this', 'that', 'br', 'was', 'as', 'for', 'with', 'movie', 'but'],\n",
              "      dtype='<U14')"
            ]
          },
          "execution_count": 7,
          "metadata": {},
          "output_type": "execute_result"
        }
      ],
      "source": [
        "\n",
        "vocab = np.array(encoder.get_vocabulary())\n",
        "vocab[:20]"
      ]
    },
    {
      "cell_type": "markdown",
      "metadata": {
        "id": "gAMQAWN1x7CD"
      },
      "source": [
        "Setelah kosakata diatur, lapisan dapat mengkodekan teks ke dalam indeks. Tensor indeks diberi bantalan 0 ke urutan terpanjang dalam batch (kecuali jika Anda menetapkan output_sequence_length tetap):"
      ]
    },
    {
      "cell_type": "code",
      "execution_count": null,
      "metadata": {
        "colab": {
          "base_uri": "https://localhost:8080/"
        },
        "id": "74zBDCe0qjmx",
        "outputId": "cf8106aa-a3cc-499f-ee1e-3fa036a1f5a5"
      },
      "outputs": [
        {
          "data": {
            "text/plain": [
              "array([[452,  56,   1, ...,   0,   0,   0],\n",
              "       [  2,  20,   1, ...,   1,   1,   1],\n",
              "       [  8,  34, 564, ...,   0,   0,   0]])"
            ]
          },
          "execution_count": 8,
          "metadata": {},
          "output_type": "execute_result"
        }
      ],
      "source": [
        "\n",
        "encoded_example = encoder(example)[:3].numpy()\n",
        "encoded_example"
      ]
    },
    {
      "cell_type": "markdown",
      "metadata": {
        "id": "CZSrT2IQx-iz"
      },
      "source": [
        "Dengan pengaturan default, prosesnya tidak dapat dibalik sepenuhnya. Ada dua alasan utama untuk itu:\n",
        "\n",
        "-Nilai default untuk argumen standarisasi preprocessing.TextVectorization adalah \"lower_and_strip_punctuation\".\n",
        "\n",
        "-Ukuran kosa kata yang terbatas dan kurangnya fallback berbasis karakter menghasilkan beberapa token yang tidak diketahui."
      ]
    },
    {
      "cell_type": "code",
      "execution_count": null,
      "metadata": {
        "colab": {
          "base_uri": "https://localhost:8080/"
        },
        "id": "iltkjps3rJxz",
        "outputId": "64f77e11-f6d7-422d-b3e8-7265158e982e"
      },
      "outputs": [
        {
          "name": "stdout",
          "output_type": "stream",
          "text": [
            "Original:  b\"Oh my gosh i live in Kentucky and when Mellisa Joan hart came to Louisville she went right through my neighborhood and waved at me i am filthy rich so she wanted to look at my neighborhood oh and i Love being rich any ways she came for the Derby back to my interest in the show...... that show makes you want to point your finger at something and make it disappear i mean it is just so creative and i love it i would love to be on that show....... that show is just amazing i mean who ever came up with that show i want to just give them a big kiss i mean it makes me feel better when I'm sick and makes me happy when I'm mad i mean if someone tells me they don't like it i will talk some sense in to you OK OK\"\n",
            "Round-trip:  oh my [UNK] i live in [UNK] and when [UNK] [UNK] [UNK] came to [UNK] she went right through my [UNK] and [UNK] at me i am [UNK] [UNK] so she wanted to look at my [UNK] oh and i love being [UNK] any ways she came for the [UNK] back to my interest in the show that show makes you want to point your [UNK] at something and make it [UNK] i mean it is just so [UNK] and i love it i would love to be on that show that show is just amazing i mean who ever came up with that show i want to just give them a big [UNK] i mean it makes me feel better when im [UNK] and makes me happy when im [UNK] i mean if someone tells me they dont like it i will talk some sense in to you ok ok                                                                                                                                                                                                                                                                                                                                                                                                                                                        \n",
            "\n",
            "Original:  b\"The film concerns a classic theme. In fact it concerns the theme exploited by Batman, from beginning to end, but in real data and details. The mayor of New York, appreciated and very diligent and dynamic, in order to get some project through slightly faster than normal, yields to some pressure from some private business contractors about a criminal drug dealer who should have been sent and kept in prison and he pressurizes the judge in his turn to set him free on probation in spite of a negative probation report that disappears but is not destroyed, be it only because of the political value it represents. And what was to happen happens and a few people, including a black schoolboy is killed in a shoot out between a police detective and that criminal. The city may explode because of it: racial tension because of the black school boy and social tension because of the insecurity such criminals free to roam around and go on with their criminal activities represent to the public. Unluckily the film does not show that tension very well and follows the investigation of the first deputy mayor who wants to find out the truth and does find it out. But along the way a few witnesses are killed, and those who had played some role in the whole business are forced to retire (the judge), to end their career and life (the contractor or the contractor's go between), a public officer who was ready to deliver the disappeared probation report, and some shady character after he provides some crucial information. The mayor himself retires and takes a long vacation; But the main interest of the film is in the exploration of the contortions the mayor is doing to cover up the problem and the contortions he remembers having done in the past that led to the mistake about this probation case. The political philosophy that nothing is pure white or pure black and that everything is grey which is never comfortable to decision makers is invoked as an excuse for wrong but profitable decisions. We are not speaking of necessary compromises to get to some consensus in some domains that are crucial to public interest. We are speaking of considering as less important to take a bad decision about some petty or supposedly petty criminal than some infrastructure or economic project in the city. That is not typical of New York. That is true in any mayoral office. It is just more significant in quantity and in quality in a big metropolitan area like New York and of course in a city or country where police departments are municipal and are controlled by political imperatives. The young deputy mayor is thus pushing the old mayor out of the way, and he derails his ambition to be the governor of New York in order to become the president of the US. The mayor is perfect due to the embodiment Al Pacino offers us since he is able to express ten minutes of dialogue with one facial expression that makes the whole dialogue useless. I find the end slightly mushy with the ex-deputy mayor campaigning in his own name. That seems to mean that he was so attached to justice because he saw his chance to push the mayor out of his own way. Hence he is not better than all the others, just still too young in his ambition.<br /><br />Dr Jacques COULARDEAU, University Paris Dauphine, University Paris 1 Pantheon Sorbonne & University Versailles Saint Quentin en Yvelines\"\n",
            "Round-trip:  the film [UNK] a classic theme in fact it [UNK] the theme [UNK] by [UNK] from beginning to end but in real [UNK] and [UNK] the [UNK] of new york [UNK] and very [UNK] and [UNK] in order to get some [UNK] through [UNK] [UNK] than [UNK] [UNK] to some [UNK] from some [UNK] business [UNK] about a [UNK] [UNK] [UNK] who should have been [UNK] and kept in [UNK] and he [UNK] the [UNK] in his turn to set him free on [UNK] in [UNK] of a [UNK] [UNK] [UNK] that [UNK] but is not [UNK] be it only because of the political [UNK] it [UNK] and what was to happen happens and a few people including a black [UNK] is killed in a [UNK] out between a police [UNK] and that [UNK] the city may [UNK] because of it [UNK] [UNK] because of the black school boy and [UNK] [UNK] because of the [UNK] such [UNK] free to [UNK] around and go on with their [UNK] [UNK] [UNK] to the [UNK] [UNK] the film does not show that [UNK] very well and [UNK] the [UNK] of the first [UNK] [UNK] who wants to find out the truth and does find it out but along the way a few [UNK] are killed and those who had played some role in the whole business are forced to [UNK] the [UNK] to end their career and life the [UNK] or the [UNK] go between a [UNK] [UNK] who was [UNK] to [UNK] the [UNK] [UNK] [UNK] and some [UNK] character after he [UNK] some [UNK] [UNK] the [UNK] himself [UNK] and takes a long [UNK] but the main interest of the film is in the [UNK] of the [UNK] the [UNK] is doing to [UNK] up the problem and the [UNK] he [UNK] having done in the past that [UNK] to the [UNK] about this [UNK] case the political [UNK] that nothing is [UNK] white or [UNK] black and that everything is [UNK] which is never [UNK] to [UNK] [UNK] is [UNK] as an [UNK] for wrong but [UNK] [UNK] we are not [UNK] of [UNK] [UNK] to get to some [UNK] in some [UNK] that are [UNK] to [UNK] interest we are [UNK] of [UNK] as less important to take a bad [UNK] about some [UNK] or [UNK] [UNK] [UNK] than some [UNK] or [UNK] [UNK] in the city that is not typical of new york that is true in any [UNK] [UNK] it is just more [UNK] in [UNK] and in quality in a big [UNK] [UNK] like new york and of course in a city or country where police [UNK] are [UNK] and are [UNK] by political [UNK] the young [UNK] [UNK] is [UNK] [UNK] the old [UNK] out of the way and he [UNK] his [UNK] to be the [UNK] of new york in order to become the [UNK] of the us the [UNK] is perfect due to the [UNK] [UNK] [UNK] [UNK] us since he is able to [UNK] ten minutes of dialogue with one [UNK] [UNK] that makes the whole dialogue [UNK] i find the end [UNK] [UNK] with the [UNK] [UNK] [UNK] in his own name that seems to mean that he was so [UNK] to [UNK] because he saw his chance to [UNK] the [UNK] out of his own way [UNK] he is not better than all the others just still too young in his [UNK] br dr [UNK] [UNK] [UNK] [UNK] [UNK] [UNK] [UNK] 1 [UNK] [UNK] [UNK] [UNK] [UNK] [UNK] [UNK] [UNK]\n",
            "\n",
            "Original:  b'In an attempt to cash in on the success of Universal\\'s horror films Majestic Pictures hired several popular actors from the current genre and put them in this effort that (realistically speaking) is nowhere near as good. With that, this is still worth everyone\\'s time and it\\'s a heck of a lot of fun to view and in my opinion it\\'s better than most of what is supposed to pass nowadays as horror! Story takes place in the small German town of Klineschloss where the bodies have been piling up completely drained of blood and with suspicious puncture marks. Burgermister Gustave Schoen (Lionel Belmore) shouts \"It\\'s Vampires\" but the local police chief Karl Brettschneider (Melvyn Douglas) thinks it\\'s a madman who\\'s responsible and he vows to catch him.<br /><br />*****SPOILER ALERT***** The Burgermeister and most of the towns folk think that the local kook Herman Glieb (Dwight Frye) who loves bats and frequently talks to them is the one they are looking for and they chase him until he falls to his death in a cave. The one who is responsible for the killings is Dr. Otto von Niemann (Lionel Atwill) who has created a new form of tissue mass that feeds on blood and he accomplishes this by having some sort of mind control over his servant Emil (Robert Frazer) who goes out at night to collect the blood. Dr. Otto has a pretty assistant named Ruth Bertin (Fay Wray) and an annoying aunt named Gussie (Maude Eburne) but they have no clue what he\\'s up to but Karl eventually become suspicious when one of the murders takes place after Herman\\'s death.<br /><br />Frank R. Strayer was never confused with being James Whale but he was a pretty competent director who ended up directing most of the \"Blondie\" films in that series and with this film he uses the same sets from \"The Old Dark House\" which was also filmed at Universal. I\\'m the first to admit that this film is downright clumsy at times but it\\'s practically impossible to resist a film that has a cast like this including Frye who is pretty much doing his Renfield role only this time he befriends bats and strokes them and keeps them in his pocket for safe keeping! One thing that just doesn\\'t make sense is the mind control that Dr. Otto has over Emil as the film never explains this and I had a strong sense that this was some sort of nod to \"The Cabinet of Dr. Caligari\" but on the other hand it\\'s probably just the weakest part of the script. There are a few other tidbits that I noticed including the chase of Frye to the big caves which is obviously an early shot of the infamous Bronson Canyon where numerous other films have been made and also Wray\\'s brown hair which is her true color. True horror film fans will appreciate this more than others but I think this is a fun film to view for everyone and with a cast as attractive as this it\\'s well worth a look.'\n",
            "Round-trip:  in an attempt to [UNK] in on the [UNK] of [UNK] horror films [UNK] [UNK] [UNK] several [UNK] actors from the [UNK] genre and put them in this effort that [UNK] [UNK] is [UNK] near as good with that this is still worth [UNK] time and its a [UNK] of a lot of fun to view and in my opinion its better than most of what is supposed to [UNK] [UNK] as horror story takes place in the small [UNK] town of [UNK] where the [UNK] have been [UNK] up completely [UNK] of blood and with [UNK] [UNK] [UNK] [UNK] [UNK] [UNK] [UNK] [UNK] [UNK] its [UNK] but the local police [UNK] [UNK] [UNK] [UNK] [UNK] [UNK] its a [UNK] whos [UNK] and he [UNK] to [UNK] [UNK] br [UNK] [UNK] the [UNK] and most of the [UNK] [UNK] think that the local [UNK] [UNK] [UNK] [UNK] [UNK] who [UNK] [UNK] and [UNK] [UNK] to them is the one they are looking for and they [UNK] him until he falls to his death in a [UNK] the one who is [UNK] for the [UNK] is dr [UNK] [UNK] [UNK] [UNK] [UNK] who has [UNK] a new form of [UNK] [UNK] that [UNK] on blood and he [UNK] this by having some sort of mind [UNK] over his [UNK] [UNK] robert [UNK] who goes out at night to [UNK] the blood dr [UNK] has a pretty [UNK] named [UNK] [UNK] [UNK] [UNK] and an annoying [UNK] named [UNK] [UNK] [UNK] but they have no [UNK] what hes up to but [UNK] eventually become [UNK] when one of the [UNK] takes place after [UNK] [UNK] br [UNK] [UNK] [UNK] was never [UNK] with being james [UNK] but he was a pretty [UNK] director who [UNK] up directing most of the [UNK] films in that series and with this film he [UNK] the same sets from the old dark house which was also filmed at [UNK] im the first to admit that this film is [UNK] [UNK] at times but its [UNK] [UNK] to [UNK] a film that has a cast like this including [UNK] who is pretty much doing his [UNK] role only this time he [UNK] [UNK] and [UNK] them and keeps them in his [UNK] for [UNK] [UNK] one thing that just doesnt make sense is the mind [UNK] that dr [UNK] has over [UNK] as the film never [UNK] this and i had a strong sense that this was some sort of [UNK] to the [UNK] of dr [UNK] but on the other hand its probably just the [UNK] part of the script there are a few other [UNK] that i [UNK] including the [UNK] of [UNK] to the big [UNK] which is obviously an early shot of the [UNK] [UNK] [UNK] where [UNK] other films have been made and also [UNK] [UNK] [UNK] which is her true [UNK] true horror film fans will [UNK] this more than others but i think this is a fun film to view for everyone and with a cast as [UNK] as this its well worth a look                                                                            \n",
            "\n"
          ]
        }
      ],
      "source": [
        "\n",
        "for n in range(3):\n",
        "  print(\"Original: \", example[n].numpy())\n",
        "  print(\"Round-trip: \", \" \".join(vocab[encoded_example[n]]))\n",
        "  print()"
      ]
    },
    {
      "cell_type": "markdown",
      "metadata": {
        "id": "n5rJYIHcyAh_"
      },
      "source": [
        "## Buat Model"
      ]
    },
    {
      "cell_type": "code",
      "execution_count": null,
      "metadata": {
        "id": "yOnLSU7urOf4"
      },
      "outputs": [],
      "source": [
        "\n",
        "model = tf.keras.Sequential([\n",
        "    encoder,\n",
        "    tf.keras.layers.Embedding(\n",
        "        input_dim=len(encoder.get_vocabulary()),\n",
        "        output_dim=64,\n",
        "        # Use masking to handle the variable sequence lengths\n",
        "        mask_zero=True),\n",
        "    tf.keras.layers.Bidirectional(tf.keras.layers.LSTM(64)),\n",
        "    tf.keras.layers.Dense(64, activation='relu'),\n",
        "    tf.keras.layers.Dense(1)\n",
        "])"
      ]
    },
    {
      "cell_type": "markdown",
      "metadata": {
        "id": "5YAs7A-uyGpn"
      },
      "source": [
        "Lapisan penyematan menggunakan masking (uses masking ) untuk menangani panjang urutan yang bervariasi. Semua lapisan setelah penyematan dukungan penyematan"
      ]
    },
    {
      "cell_type": "code",
      "execution_count": null,
      "metadata": {
        "colab": {
          "base_uri": "https://localhost:8080/"
        },
        "id": "Qj1z6xVirRVU",
        "outputId": "586e310a-ea4b-4aa4-c8ec-aad17456203d"
      },
      "outputs": [
        {
          "name": "stdout",
          "output_type": "stream",
          "text": [
            "[False, True, True, True, True]\n"
          ]
        }
      ],
      "source": [
        "print([layer.supports_masking for layer in model.layers])\n"
      ]
    },
    {
      "cell_type": "code",
      "execution_count": null,
      "metadata": {
        "colab": {
          "base_uri": "https://localhost:8080/"
        },
        "id": "BsdMkso2U0uL",
        "outputId": "3d4fa81f-5a96-4d6b-c683-22bbe468ea6a"
      },
      "outputs": [
        {
          "name": "stdout",
          "output_type": "stream",
          "text": [
            "Lapisan 0: <TextVectorization name=text_vectorization, built=True>\n",
            "Lapisan 1: <Embedding name=embedding, built=False>\n",
            "Lapisan 2: <Bidirectional name=bidirectional, built=False>\n",
            "Lapisan 3: <Dense name=dense, built=False>\n",
            "Lapisan 4: <Dense name=dense_1, built=False>\n"
          ]
        }
      ],
      "source": [
        "for i, layer in enumerate(model.layers):\n",
        "    print(f\"Lapisan {i}: {layer}\")"
      ]
    },
    {
      "cell_type": "markdown",
      "metadata": {
        "id": "MgK-IYQ30Cwy"
      },
      "source": [
        "Untuk memastikan bahwa ini berfungsi seperti yang diharapkan, evaluasi sebuah kalimat dua kali. Pertama, satu kalimat sehingga tidak ada bantalan (padding) untuk disamarkan:"
      ]
    },
    {
      "cell_type": "code",
      "execution_count": null,
      "metadata": {
        "colab": {
          "base_uri": "https://localhost:8080/"
        },
        "id": "sKyzs5LL0F97",
        "outputId": "93406e22-0d9a-48fe-c3bc-b8d73edb5e56"
      },
      "outputs": [
        {
          "name": "stdout",
          "output_type": "stream",
          "text": [
            "\u001b[1m1/1\u001b[0m \u001b[32m━━━━━━━━━━━━━━━━━━━━\u001b[0m\u001b[37m\u001b[0m \u001b[1m2s\u001b[0m 2s/step\n",
            "[-1.7113518e-05]\n"
          ]
        }
      ],
      "source": [
        "\n",
        "# Contoh teks untuk prediksi\n",
        "sample_text = ('The movie was cool. The animation and the graphics '\n",
        "               'were out of this world. I would recommend this movie.')\n",
        "\n",
        "# Ubah teks menjadi array numpy dengan tipe objek (tanpa padding)\n",
        "sample_array = np.array([sample_text], dtype=object)\n",
        "\n",
        "# Prediksi menggunakan model\n",
        "predictions = model.predict(sample_array)\n",
        "print(predictions[0])"
      ]
    },
    {
      "cell_type": "markdown",
      "metadata": {
        "id": "2PyuhVGi9YEJ"
      },
      "source": [
        "Sekarang, evaluasi lagi dalam batch dengan kalimat yang lebih panjang. Hasilnya harus sama:"
      ]
    },
    {
      "cell_type": "code",
      "execution_count": null,
      "metadata": {
        "colab": {
          "base_uri": "https://localhost:8080/"
        },
        "id": "w6eF37-g9Zip",
        "outputId": "641c67dd-c102-4e6e-fc0d-5656d47d7c76"
      },
      "outputs": [
        {
          "name": "stdout",
          "output_type": "stream",
          "text": [
            "\u001b[1m1/1\u001b[0m \u001b[32m━━━━━━━━━━━━━━━━━━━━\u001b[0m\u001b[37m\u001b[0m \u001b[1m0s\u001b[0m 335ms/step\n",
            "[-1.7113984e-05]\n"
          ]
        }
      ],
      "source": [
        "# predict on a sample text with padding\n",
        "\n",
        "padding = \"the \" * 2000\n",
        "predictions = model.predict(np.array([sample_text, padding], dtype=object))\n",
        "print(predictions[0])"
      ]
    },
    {
      "cell_type": "markdown",
      "metadata": {
        "id": "kdB7Wgxi9jpO"
      },
      "source": [
        "compile model Keras untuk mengonfigurasi proses pelatihan:"
      ]
    },
    {
      "cell_type": "code",
      "execution_count": null,
      "metadata": {
        "id": "GZPlAVSZ9m64"
      },
      "outputs": [],
      "source": [
        "model.compile(loss=tf.keras.losses.BinaryCrossentropy(from_logits=True),\n",
        "              optimizer=tf.keras.optimizers.Adam(1e-4),\n",
        "              metrics=['accuracy'])"
      ]
    },
    {
      "cell_type": "code",
      "execution_count": null,
      "metadata": {
        "colab": {
          "base_uri": "https://localhost:8080/"
        },
        "id": "NnqrIWAxs31D",
        "outputId": "51e9ede5-e737-4ad6-ebcc-fc5ece4763ec"
      },
      "outputs": [
        {
          "name": "stdout",
          "output_type": "stream",
          "text": [
            "\u001b[1m1/1\u001b[0m \u001b[32m━━━━━━━━━━━━━━━━━━━━\u001b[0m\u001b[37m\u001b[0m \u001b[1m1s\u001b[0m 613ms/step\n",
            "[-1.7113518e-05]\n"
          ]
        }
      ],
      "source": [
        "# Contoh teks untuk prediksi\n",
        "sample_text = ('The movie was cool. The animation and the graphics '\n",
        "               'were out of this world. I would recommend this movie.')\n",
        "\n",
        "# Ubah teks menjadi array numpy dengan tipe objek (tanpa padding)\n",
        "sample_array = np.array([sample_text], dtype=object)\n",
        "\n",
        "# Prediksi menggunakan model\n",
        "predictions = model.predict(sample_array)\n",
        "print(predictions[0])\n"
      ]
    },
    {
      "cell_type": "code",
      "execution_count": null,
      "metadata": {
        "colab": {
          "base_uri": "https://localhost:8080/"
        },
        "id": "HXRbnjfjtpPe",
        "outputId": "3a09cdbb-97fd-4f9c-e3fe-6fa7a545162f"
      },
      "outputs": [
        {
          "name": "stdout",
          "output_type": "stream",
          "text": [
            "\u001b[1m1/1\u001b[0m \u001b[32m━━━━━━━━━━━━━━━━━━━━\u001b[0m\u001b[37m\u001b[0m \u001b[1m0s\u001b[0m 277ms/step\n",
            "[-1.7113984e-05]\n"
          ]
        }
      ],
      "source": [
        "\n",
        "# predict on a sample text with padding\n",
        "\n",
        "padding = \"the \" * 2000\n",
        "predictions = model.predict(np.array([sample_text, padding], dtype=object))\n",
        "print(predictions[0])"
      ]
    },
    {
      "cell_type": "code",
      "execution_count": null,
      "metadata": {
        "id": "KUcKGEP0wLMh"
      },
      "outputs": [],
      "source": [
        "model.compile(loss=tf.keras.losses.BinaryCrossentropy(from_logits=True),\n",
        "              optimizer=tf.keras.optimizers.Adam(1e-4),\n",
        "              metrics=['accuracy'])\n"
      ]
    },
    {
      "cell_type": "markdown",
      "metadata": {
        "id": "YAZEGAys9zE-"
      },
      "source": [
        "## Train Model"
      ]
    },
    {
      "cell_type": "code",
      "execution_count": null,
      "metadata": {
        "colab": {
          "base_uri": "https://localhost:8080/"
        },
        "id": "BUrHAC-BwPKS",
        "outputId": "e7d85ba6-3263-4be7-f5b6-94d5a3d5229f"
      },
      "outputs": [
        {
          "name": "stdout",
          "output_type": "stream",
          "text": [
            "Epoch 1/10\n",
            "\u001b[1m391/391\u001b[0m \u001b[32m━━━━━━━━━━━━━━━━━━━━\u001b[0m\u001b[37m\u001b[0m \u001b[1m27s\u001b[0m 58ms/step - accuracy: 0.5170 - loss: 0.6775 - val_accuracy: 0.7870 - val_loss: 0.4324\n",
            "Epoch 2/10\n",
            "\u001b[1m391/391\u001b[0m \u001b[32m━━━━━━━━━━━━━━━━━━━━\u001b[0m\u001b[37m\u001b[0m \u001b[1m22s\u001b[0m 57ms/step - accuracy: 0.8115 - loss: 0.4070 - val_accuracy: 0.8547 - val_loss: 0.3307\n",
            "Epoch 3/10\n",
            "\u001b[1m391/391\u001b[0m \u001b[32m━━━━━━━━━━━━━━━━━━━━\u001b[0m\u001b[37m\u001b[0m \u001b[1m41s\u001b[0m 57ms/step - accuracy: 0.8474 - loss: 0.3440 - val_accuracy: 0.8432 - val_loss: 0.3312\n",
            "Epoch 4/10\n",
            "\u001b[1m391/391\u001b[0m \u001b[32m━━━━━━━━━━━━━━━━━━━━\u001b[0m\u001b[37m\u001b[0m \u001b[1m40s\u001b[0m 55ms/step - accuracy: 0.8566 - loss: 0.3276 - val_accuracy: 0.8474 - val_loss: 0.3402\n",
            "Epoch 5/10\n",
            "\u001b[1m391/391\u001b[0m \u001b[32m━━━━━━━━━━━━━━━━━━━━\u001b[0m\u001b[37m\u001b[0m \u001b[1m23s\u001b[0m 57ms/step - accuracy: 0.8541 - loss: 0.3282 - val_accuracy: 0.8401 - val_loss: 0.3310\n",
            "Epoch 6/10\n",
            "\u001b[1m391/391\u001b[0m \u001b[32m━━━━━━━━━━━━━━━━━━━━\u001b[0m\u001b[37m\u001b[0m \u001b[1m41s\u001b[0m 57ms/step - accuracy: 0.8558 - loss: 0.3212 - val_accuracy: 0.8578 - val_loss: 0.3285\n",
            "Epoch 7/10\n",
            "\u001b[1m391/391\u001b[0m \u001b[32m━━━━━━━━━━━━━━━━━━━━\u001b[0m\u001b[37m\u001b[0m \u001b[1m41s\u001b[0m 57ms/step - accuracy: 0.8641 - loss: 0.3095 - val_accuracy: 0.8568 - val_loss: 0.3081\n",
            "Epoch 8/10\n",
            "\u001b[1m391/391\u001b[0m \u001b[32m━━━━━━━━━━━━━━━━━━━━\u001b[0m\u001b[37m\u001b[0m \u001b[1m23s\u001b[0m 57ms/step - accuracy: 0.8687 - loss: 0.3045 - val_accuracy: 0.8557 - val_loss: 0.3173\n",
            "Epoch 9/10\n",
            "\u001b[1m391/391\u001b[0m \u001b[32m━━━━━━━━━━━━━━━━━━━━\u001b[0m\u001b[37m\u001b[0m \u001b[1m41s\u001b[0m 58ms/step - accuracy: 0.8689 - loss: 0.3004 - val_accuracy: 0.8651 - val_loss: 0.3181\n",
            "Epoch 10/10\n",
            "\u001b[1m391/391\u001b[0m \u001b[32m━━━━━━━━━━━━━━━━━━━━\u001b[0m\u001b[37m\u001b[0m \u001b[1m23s\u001b[0m 58ms/step - accuracy: 0.8657 - loss: 0.3061 - val_accuracy: 0.8255 - val_loss: 0.3358\n"
          ]
        }
      ],
      "source": [
        "\n",
        "history = model.fit(train_dataset, epochs=10,\n",
        "          validation_data=test_dataset,\n",
        "          validation_steps=30)"
      ]
    },
    {
      "cell_type": "code",
      "execution_count": null,
      "metadata": {
        "colab": {
          "base_uri": "https://localhost:8080/"
        },
        "id": "WfsmfuuFxSAe",
        "outputId": "e3939e42-85c6-49cf-bab7-98c56138660d"
      },
      "outputs": [
        {
          "name": "stdout",
          "output_type": "stream",
          "text": [
            "\u001b[1m391/391\u001b[0m \u001b[32m━━━━━━━━━━━━━━━━━━━━\u001b[0m\u001b[37m\u001b[0m \u001b[1m12s\u001b[0m 30ms/step - accuracy: 0.8374 - loss: 0.3333\n",
            "Test Loss: 0.33427757024765015\n",
            "Test Accuracy: 0.8360400199890137\n"
          ]
        }
      ],
      "source": [
        "test_loss, test_acc = model.evaluate(test_dataset)\n",
        "\n",
        "print('Test Loss:', test_loss)\n",
        "print('Test Accuracy:', test_acc)"
      ]
    },
    {
      "cell_type": "code",
      "execution_count": null,
      "metadata": {
        "colab": {
          "base_uri": "https://localhost:8080/",
          "height": 412
        },
        "id": "ZTcOfY5mxVAo",
        "outputId": "c3f27fdf-62bf-41b9-e285-a2e68cbc34e5"
      },
      "outputs": [
        {
          "data": {
            "text/plain": [
              "(0.0, 0.6393915966153145)"
            ]
          },
          "execution_count": 21,
          "metadata": {},
          "output_type": "execute_result"
        },
        {
          "data": {
            "image/png": "[encoded data removed]",
            "text/plain": [
              "<Figure size 1600x800 with 2 Axes>"
            ]
          },
          "metadata": {},
          "output_type": "display_data"
        }
      ],
      "source": [
        "plt.figure(figsize=(16, 8))\n",
        "plt.subplot(1, 2, 1)\n",
        "plot_graphs(history, 'accuracy')\n",
        "plt.ylim(None, 1)\n",
        "plt.subplot(1, 2, 2)\n",
        "plot_graphs(history, 'loss')\n",
        "plt.ylim(0, None)"
      ]
    },
    {
      "cell_type": "markdown",
      "metadata": {
        "id": "YE-AU48xbOyH"
      },
      "source": [
        "Jalankan prediksi pada kalimat baru:\n",
        "\n",
        "Jika prediksi >= 0,0 berarti positif, jika tidak maka negatif."
      ]
    },
    {
      "cell_type": "code",
      "execution_count": null,
      "metadata": {
        "colab": {
          "base_uri": "https://localhost:8080/"
        },
        "id": "w9Dfl7VdT7GO",
        "outputId": "b7464e31-f258-44aa-e90c-f3e9f5ad521d"
      },
      "outputs": [
        {
          "name": "stderr",
          "output_type": "stream",
          "text": [
            "WARNING:tensorflow:5 out of the last 5 calls to <function TensorFlowTrainer.make_predict_function.<locals>.one_step_on_data_distributed at 0x78b56e8e2cb0> triggered tf.function retracing. Tracing is expensive and the excessive number of tracings could be due to (1) creating @tf.function repeatedly in a loop, (2) passing tensors with different shapes, (3) passing Python objects instead of tensors. For (1), please define your @tf.function outside of the loop. For (2), @tf.function has reduce_retracing=True option that can avoid unnecessary retracing. For (3), please refer to https://www.tensorflow.org/guide/function#controlling_retracing and https://www.tensorflow.org/api_docs/python/tf/function for  more details.\n"
          ]
        },
        {
          "name": "stdout",
          "output_type": "stream",
          "text": [
            "\u001b[1m1/1\u001b[0m \u001b[32m━━━━━━━━━━━━━━━━━━━━\u001b[0m\u001b[37m\u001b[0m \u001b[1m0s\u001b[0m 389ms/step\n"
          ]
        }
      ],
      "source": [
        "\n",
        "sample_text = ('The movie was cool. The animation and the graphics '\n",
        "              'were out of this world. I would recommend this movie.')\n",
        "predictions = model.predict(np.array([sample_text],dtype=object))"
      ]
    },
    {
      "cell_type": "markdown",
      "metadata": {
        "id": "85xE0acPbRxo"
      },
      "source": [
        "## Stack two or more LSTM layers"
      ]
    },
    {
      "cell_type": "code",
      "execution_count": null,
      "metadata": {
        "id": "WdZNUJhGUI92"
      },
      "outputs": [],
      "source": [
        "\n",
        "model = tf.keras.Sequential([\n",
        "    encoder,\n",
        "    tf.keras.layers.Embedding(len(encoder.get_vocabulary()), 64, mask_zero=True),\n",
        "    tf.keras.layers.Bidirectional(tf.keras.layers.LSTM(64,  return_sequences=True)),\n",
        "    tf.keras.layers.Bidirectional(tf.keras.layers.LSTM(32)),\n",
        "    tf.keras.layers.Dense(64, activation='relu'),\n",
        "    tf.keras.layers.Dropout(0.5),\n",
        "    tf.keras.layers.Dense(1)\n",
        "])"
      ]
    },
    {
      "cell_type": "code",
      "execution_count": null,
      "metadata": {
        "id": "EPxuyy1gULFl"
      },
      "outputs": [],
      "source": [
        "model.compile(loss=tf.keras.losses.BinaryCrossentropy(from_logits=True),\n",
        "optimizer=tf.keras.optimizers.Adam(1e-4),\n",
        "metrics=['accuracy'])"
      ]
    },
    {
      "cell_type": "code",
      "execution_count": null,
      "metadata": {
        "colab": {
          "base_uri": "https://localhost:8080/"
        },
        "id": "pcyVG84ZUUof",
        "outputId": "2989d752-4987-40e0-b7df-4cffccba7cb6"
      },
      "outputs": [
        {
          "name": "stdout",
          "output_type": "stream",
          "text": [
            "Epoch 1/10\n",
            "\u001b[1m391/391\u001b[0m \u001b[32m━━━━━━━━━━━━━━━━━━━━\u001b[0m\u001b[37m\u001b[0m \u001b[1m45s\u001b[0m 102ms/step - accuracy: 0.5172 - loss: 0.6790 - val_accuracy: 0.8172 - val_loss: 0.4253\n",
            "Epoch 2/10\n",
            "\u001b[1m391/391\u001b[0m \u001b[32m━━━━━━━━━━━━━━━━━━━━\u001b[0m\u001b[37m\u001b[0m \u001b[1m39s\u001b[0m 100ms/step - accuracy: 0.8172 - loss: 0.4047 - val_accuracy: 0.8547 - val_loss: 0.3321\n",
            "Epoch 3/10\n",
            "\u001b[1m391/391\u001b[0m \u001b[32m━━━━━━━━━━━━━━━━━━━━\u001b[0m\u001b[37m\u001b[0m \u001b[1m42s\u001b[0m 102ms/step - accuracy: 0.8490 - loss: 0.3442 - val_accuracy: 0.8573 - val_loss: 0.3119\n",
            "Epoch 4/10\n",
            "\u001b[1m391/391\u001b[0m \u001b[32m━━━━━━━━━━━━━━━━━━━━\u001b[0m\u001b[37m\u001b[0m \u001b[1m40s\u001b[0m 100ms/step - accuracy: 0.8582 - loss: 0.3237 - val_accuracy: 0.8469 - val_loss: 0.3410\n",
            "Epoch 5/10\n",
            "\u001b[1m391/391\u001b[0m \u001b[32m━━━━━━━━━━━━━━━━━━━━\u001b[0m\u001b[37m\u001b[0m \u001b[1m39s\u001b[0m 100ms/step - accuracy: 0.8610 - loss: 0.3195 - val_accuracy: 0.8620 - val_loss: 0.3196\n",
            "Epoch 6/10\n",
            "\u001b[1m391/391\u001b[0m \u001b[32m━━━━━━━━━━━━━━━━━━━━\u001b[0m\u001b[37m\u001b[0m \u001b[1m40s\u001b[0m 102ms/step - accuracy: 0.8651 - loss: 0.3186 - val_accuracy: 0.8542 - val_loss: 0.3338\n",
            "Epoch 7/10\n",
            "\u001b[1m391/391\u001b[0m \u001b[32m━━━━━━━━━━━━━━━━━━━━\u001b[0m\u001b[37m\u001b[0m \u001b[1m41s\u001b[0m 101ms/step - accuracy: 0.8675 - loss: 0.3101 - val_accuracy: 0.8682 - val_loss: 0.3075\n",
            "Epoch 8/10\n",
            "\u001b[1m391/391\u001b[0m \u001b[32m━━━━━━━━━━━━━━━━━━━━\u001b[0m\u001b[37m\u001b[0m \u001b[1m41s\u001b[0m 100ms/step - accuracy: 0.8725 - loss: 0.2975 - val_accuracy: 0.8198 - val_loss: 0.3413\n",
            "Epoch 9/10\n",
            "\u001b[1m391/391\u001b[0m \u001b[32m━━━━━━━━━━━━━━━━━━━━\u001b[0m\u001b[37m\u001b[0m \u001b[1m41s\u001b[0m 101ms/step - accuracy: 0.8695 - loss: 0.2988 - val_accuracy: 0.7510 - val_loss: 0.4130\n",
            "Epoch 10/10\n",
            "\u001b[1m391/391\u001b[0m \u001b[32m━━━━━━━━━━━━━━━━━━━━\u001b[0m\u001b[37m\u001b[0m \u001b[1m41s\u001b[0m 101ms/step - accuracy: 0.8599 - loss: 0.3165 - val_accuracy: 0.8630 - val_loss: 0.3514\n"
          ]
        }
      ],
      "source": [
        "history = model.fit(train_dataset, epochs=10,\n",
        "validation_data=test_dataset,\n",
        "validation_steps=30)"
      ]
    },
    {
      "cell_type": "code",
      "execution_count": null,
      "metadata": {
        "colab": {
          "base_uri": "https://localhost:8080/"
        },
        "id": "aOgbqJiGX2YE",
        "outputId": "47b07468-ba19-4ab7-fcc8-24481bcf5a5d"
      },
      "outputs": [
        {
          "name": "stdout",
          "output_type": "stream",
          "text": [
            "\u001b[1m391/391\u001b[0m \u001b[32m━━━━━━━━━━━━━━━━━━━━\u001b[0m\u001b[37m\u001b[0m \u001b[1m19s\u001b[0m 47ms/step - accuracy: 0.8576 - loss: 0.3529\n",
            "Test Loss: 0.35147824883461\n",
            "Test Accuracy: 0.8569200038909912\n"
          ]
        }
      ],
      "source": [
        "\n",
        "test_loss, test_acc = model.evaluate(test_dataset)\n",
        "\n",
        "print('Test Loss:', test_loss)\n",
        "print('Test Accuracy:', test_acc)"
      ]
    },
    {
      "cell_type": "code",
      "execution_count": null,
      "metadata": {
        "colab": {
          "base_uri": "https://localhost:8080/"
        },
        "id": "5hAI-FtCX3Li",
        "outputId": "52415541-2041-4cf1-ec90-511157d2da5a"
      },
      "outputs": [
        {
          "name": "stderr",
          "output_type": "stream",
          "text": [
            "WARNING:tensorflow:6 out of the last 6 calls to <function TensorFlowTrainer.make_predict_function.<locals>.one_step_on_data_distributed at 0x78b56ca04ee0> triggered tf.function retracing. Tracing is expensive and the excessive number of tracings could be due to (1) creating @tf.function repeatedly in a loop, (2) passing tensors with different shapes, (3) passing Python objects instead of tensors. For (1), please define your @tf.function outside of the loop. For (2), @tf.function has reduce_retracing=True option that can avoid unnecessary retracing. For (3), please refer to https://www.tensorflow.org/guide/function#controlling_retracing and https://www.tensorflow.org/api_docs/python/tf/function for  more details.\n"
          ]
        },
        {
          "name": "stdout",
          "output_type": "stream",
          "text": [
            "\u001b[1m1/1\u001b[0m \u001b[32m━━━━━━━━━━━━━━━━━━━━\u001b[0m\u001b[37m\u001b[0m \u001b[1m0s\u001b[0m 407ms/step\n",
            "[[-1.9911888]]\n"
          ]
        }
      ],
      "source": [
        "# predict on a sample text without padding.\n",
        "\n",
        "sample_text = ('The movie was not good. The animation and the graphics '\n",
        "              'were terrible. I would not recommend this movie.')\n",
        "predictions = model.predict(np.array([sample_text], dtype=object))\n",
        "print(predictions)"
      ]
    },
    {
      "cell_type": "code",
      "execution_count": null,
      "metadata": {
        "colab": {
          "base_uri": "https://localhost:8080/",
          "height": 306
        },
        "id": "SCOOup_dX5jW",
        "outputId": "0d04d2fd-e889-4009-ac77-2ebca02b3540"
      },
      "outputs": [
        {
          "data": {
            "image/png": "[encoded data removed]",
            "text/plain": [
              "<Figure size 1600x600 with 2 Axes>"
            ]
          },
          "metadata": {},
          "output_type": "display_data"
        }
      ],
      "source": [
        "\n",
        "plt.figure(figsize=(16, 6))\n",
        "plt.subplot(1, 2, 1)\n",
        "plot_graphs(history, 'accuracy')\n",
        "plt.subplot(1, 2, 2)\n",
        "plot_graphs(history, 'loss')\n"
      ]
    },
    {
      "cell_type": "markdown",
      "metadata": {
        "id": "djnL_zPJLLBb"
      },
      "source": [
        "## Praktikum 2"
      ]
    },
    {
      "cell_type": "markdown",
      "metadata": {
        "id": "3cKlLMmwC0m1"
      },
      "source": [
        "## Setup\n",
        "Import TensorFlow"
      ]
    },
    {
      "cell_type": "code",
      "execution_count": null,
      "metadata": {
        "id": "4exTckRJL8n4"
      },
      "outputs": [],
      "source": [
        "import tensorflow as tf\n",
        "import numpy as np\n",
        "import os\n",
        "import time"
      ]
    },
    {
      "cell_type": "markdown",
      "metadata": {
        "id": "JNhHnwx1C2_s"
      },
      "source": [
        "## Download Dataset Shakespeare\n",
        "Sesuaikan dengan lokasi data yang Anda punya."
      ]
    },
    {
      "cell_type": "code",
      "execution_count": null,
      "metadata": {
        "colab": {
          "base_uri": "https://localhost:8080/"
        },
        "id": "rkH5z124MDQk",
        "outputId": "fed660cc-7e7f-4d5d-db99-ac592705b5ce"
      },
      "outputs": [
        {
          "name": "stdout",
          "output_type": "stream",
          "text": [
            "Downloading data from https://storage.googleapis.com/download.tensorflow.org/data/shakespeare.txt\n",
            "\u001b[1m1115394/1115394\u001b[0m \u001b[32m━━━━━━━━━━━━━━━━━━━━\u001b[0m\u001b[37m\u001b[0m \u001b[1m1s\u001b[0m 1us/step\n"
          ]
        }
      ],
      "source": [
        "path_to_file = tf.keras.utils.get_file('shakespeare.txt', 'https://storage.googleapis.com/download.tensorflow.org/data/shakespeare.txt')\n"
      ]
    },
    {
      "cell_type": "markdown",
      "metadata": {
        "id": "IXwWTL8jC9Cx"
      },
      "source": [
        "## Load Data"
      ]
    },
    {
      "cell_type": "code",
      "execution_count": null,
      "metadata": {
        "colab": {
          "base_uri": "https://localhost:8080/"
        },
        "id": "4hchr_r0MWIy",
        "outputId": "775cf688-fb42-44df-c0b1-8d76a638c8eb"
      },
      "outputs": [
        {
          "name": "stdout",
          "output_type": "stream",
          "text": [
            "Length of text: 1115394 characters\n",
            "First Citizen:\n",
            "Before we proceed any further, hear me speak.\n",
            "\n",
            "All:\n",
            "Speak, speak.\n",
            "\n",
            "First Citizen:\n",
            "You are all resolved rather to die than to famish?\n",
            "\n",
            "All:\n",
            "Resolved. resolved.\n",
            "\n",
            "First Citizen:\n",
            "First, you know Caius Marcius is chief enemy to the people.\n",
            "\n"
          ]
        }
      ],
      "source": [
        "text = open(path_to_file, 'rb').read().decode(encoding='utf-8')\n",
        "print(f'Length of text: {len(text)} characters')\n",
        "print(text[:250])\n"
      ]
    },
    {
      "cell_type": "code",
      "execution_count": null,
      "metadata": {
        "colab": {
          "base_uri": "https://localhost:8080/"
        },
        "id": "pYSIC9jsMcI8",
        "outputId": "068bca97-f32f-499f-addd-ca5ebe55b8ce"
      },
      "outputs": [
        {
          "name": "stdout",
          "output_type": "stream",
          "text": [
            "First Citizen:\n",
            "Before we proceed any further, hear me speak.\n",
            "\n",
            "All:\n",
            "Speak, speak.\n",
            "\n",
            "First Citizen:\n",
            "You are all resolved rather to die than to famish?\n",
            "\n",
            "All:\n",
            "Resolved. resolved.\n",
            "\n",
            "First Citizen:\n",
            "First, you know Caius Marcius is chief enemy to the people.\n",
            "\n"
          ]
        }
      ],
      "source": [
        "# Take a look at the first 250 characters in text\n",
        "print(text[:250])"
      ]
    },
    {
      "cell_type": "code",
      "execution_count": null,
      "metadata": {
        "colab": {
          "base_uri": "https://localhost:8080/"
        },
        "id": "41GfvAv6M2wn",
        "outputId": "ef9da103-d102-4687-e4b5-466361ac453f"
      },
      "outputs": [
        {
          "name": "stdout",
          "output_type": "stream",
          "text": [
            "65 unique characters\n"
          ]
        }
      ],
      "source": [
        "# The unique characters in the file\n",
        "vocab = sorted(set(text))\n",
        "print(f'{len(vocab)} unique characters')"
      ]
    },
    {
      "cell_type": "markdown",
      "metadata": {
        "id": "tXCfMjtNDE0Q"
      },
      "source": [
        "## Olah Teks\n",
        "Vectorize Teks\n",
        "Sebelum training, Anda perlu mengonversi string menjadi representasi numerik. tf.keras.layers.StringLookup dapat mengubah setiap karakter menjadi ID numerik. Caranya adalah teks akan dipecah menjadi token terlebih dahulu."
      ]
    },
    {
      "cell_type": "code",
      "execution_count": null,
      "metadata": {
        "colab": {
          "base_uri": "https://localhost:8080/"
        },
        "id": "OCYV8HaEM-SO",
        "outputId": "3f55f4aa-24af-4a83-acf3-7efc137e572e"
      },
      "outputs": [
        {
          "data": {
            "text/plain": [
              "<tf.RaggedTensor [[b'a', b'b', b'c', b'd', b'e', b'f', b'g'], [b'x', b'y', b'z']]>"
            ]
          },
          "execution_count": 6,
          "metadata": {},
          "output_type": "execute_result"
        }
      ],
      "source": [
        "example_texts = ['abcdefg', 'xyz']\n",
        "chars = tf.strings.unicode_split(example_texts, input_encoding='UTF-8')\n",
        "chars"
      ]
    },
    {
      "cell_type": "markdown",
      "metadata": {
        "id": "i_-kA7z0DHVQ"
      },
      "source": [
        "sekarang buat tf.keras.layers.StringLookup layer:"
      ]
    },
    {
      "cell_type": "code",
      "execution_count": null,
      "metadata": {
        "id": "h_AHGaa6NOeO"
      },
      "outputs": [],
      "source": [
        "ids_from_chars = tf.keras.layers.StringLookup(vocabulary=list(vocab), mask_token=None)"
      ]
    },
    {
      "cell_type": "markdown",
      "metadata": {
        "id": "vx3R3DZ3DJ25"
      },
      "source": [
        "perintah diatas mengconvert token menjadi id"
      ]
    },
    {
      "cell_type": "code",
      "execution_count": null,
      "metadata": {
        "colab": {
          "base_uri": "https://localhost:8080/"
        },
        "id": "qYlNa1FYNkDL",
        "outputId": "31f03491-fbd3-4683-deef-631d884d2b66"
      },
      "outputs": [
        {
          "data": {
            "text/plain": [
              "<tf.RaggedTensor [[40, 41, 42, 43, 44, 45, 46], [63, 64, 65]]>"
            ]
          },
          "execution_count": 8,
          "metadata": {},
          "output_type": "execute_result"
        }
      ],
      "source": [
        "ids = ids_from_chars(chars)\n",
        "ids"
      ]
    },
    {
      "cell_type": "markdown",
      "metadata": {
        "id": "9LI8qVo6DR25"
      },
      "source": [
        "Karena tujuan tutorial ini adalah untuk menghasilkan teks, penting juga untuk membalikkan representasi ini. Untuk ini Anda dapat menggunakan kode tf.keras.layers.StringLookup(..., invert=True).\n",
        "\n",
        "Catatan: pada kode ini, daripada meneruskan kosakata asli yang dihasilkan dengan diurutkan(set(teks)) gunakan metode get_vocabulary() dari tf.keras.layers.StringLookup sehingga token [UNK] disetel dengan cara yang sama."
      ]
    },
    {
      "cell_type": "code",
      "execution_count": null,
      "metadata": {
        "id": "hVYUKknzRjEB"
      },
      "outputs": [],
      "source": [
        "chars_from_ids = tf.keras.layers.StringLookup(\n",
        "    vocabulary=ids_from_chars.get_vocabulary(), invert=True, mask_token=None)"
      ]
    },
    {
      "cell_type": "markdown",
      "metadata": {
        "id": "u0KJpMJGDUFY"
      },
      "source": [
        "Lapisan ini mengconvert kembali karakter dari vektor ID, dan mengembalikannya sebagai karakter tf.RaggedTensor:"
      ]
    },
    {
      "cell_type": "code",
      "execution_count": null,
      "metadata": {
        "colab": {
          "base_uri": "https://localhost:8080/"
        },
        "id": "fCqRsEtjRuKn",
        "outputId": "485e68a7-6d8a-4ac9-af91-08c1fb687f2b"
      },
      "outputs": [
        {
          "data": {
            "text/plain": [
              "<tf.RaggedTensor [[b'a', b'b', b'c', b'd', b'e', b'f', b'g'], [b'x', b'y', b'z']]>"
            ]
          },
          "execution_count": 10,
          "metadata": {},
          "output_type": "execute_result"
        }
      ],
      "source": [
        "chars = chars_from_ids(ids)\n",
        "chars"
      ]
    },
    {
      "cell_type": "markdown",
      "metadata": {
        "id": "swwEq-xeDbSp"
      },
      "source": [
        "Anda dapat menggunakan tf.strings.reduce_join untuk menggabungkan kembali karakter menjadi string."
      ]
    },
    {
      "cell_type": "code",
      "execution_count": null,
      "metadata": {
        "colab": {
          "base_uri": "https://localhost:8080/"
        },
        "id": "haGiqWCDRzEg",
        "outputId": "f21af952-99b8-4894-f79d-ca56b03b5f4d"
      },
      "outputs": [
        {
          "data": {
            "text/plain": [
              "array([b'abcdefg', b'xyz'], dtype=object)"
            ]
          },
          "execution_count": 11,
          "metadata": {},
          "output_type": "execute_result"
        }
      ],
      "source": [
        "tf.strings.reduce_join(chars, axis=-1).numpy()"
      ]
    },
    {
      "cell_type": "code",
      "execution_count": null,
      "metadata": {
        "id": "4X8J3zGER3Ue"
      },
      "outputs": [],
      "source": [
        "def text_from_ids(ids):\n",
        "    return tf.strings.reduce_join(chars_from_ids(ids), axis=-1)"
      ]
    },
    {
      "cell_type": "markdown",
      "metadata": {
        "id": "9dhFHQkcDeRQ"
      },
      "source": [
        "## Prediksi"
      ]
    },
    {
      "cell_type": "code",
      "execution_count": null,
      "metadata": {
        "colab": {
          "base_uri": "https://localhost:8080/"
        },
        "id": "RuK4TabyR_eI",
        "outputId": "67fdaa6e-9530-4426-83b6-57c90bc83971"
      },
      "outputs": [
        {
          "data": {
            "text/plain": [
              "<tf.Tensor: shape=(1115394,), dtype=int64, numpy=array([19, 48, 57, ..., 46,  9,  1])>"
            ]
          },
          "execution_count": 13,
          "metadata": {},
          "output_type": "execute_result"
        }
      ],
      "source": [
        "all_ids = ids_from_chars(tf.strings.unicode_split(text, 'UTF-8'))\n",
        "all_ids"
      ]
    },
    {
      "cell_type": "code",
      "execution_count": null,
      "metadata": {
        "id": "PZ-tANQNSE9l"
      },
      "outputs": [],
      "source": [
        "ids_dataset = tf.data.Dataset.from_tensor_slices(all_ids)"
      ]
    },
    {
      "cell_type": "code",
      "execution_count": null,
      "metadata": {
        "colab": {
          "base_uri": "https://localhost:8080/"
        },
        "id": "7tnfAXrwSIqY",
        "outputId": "7cf437f8-41ab-4d75-d85d-b2da60952b28"
      },
      "outputs": [
        {
          "name": "stdout",
          "output_type": "stream",
          "text": [
            "F\n",
            "i\n",
            "r\n",
            "s\n",
            "t\n",
            " \n",
            "C\n",
            "i\n",
            "t\n",
            "i\n"
          ]
        }
      ],
      "source": [
        "for ids in ids_dataset.take(10):\n",
        "    print(chars_from_ids(ids).numpy().decode('utf-8'))"
      ]
    },
    {
      "cell_type": "code",
      "execution_count": null,
      "metadata": {
        "id": "6559KP5cSP4B"
      },
      "outputs": [],
      "source": [
        "seq_length = 100"
      ]
    },
    {
      "cell_type": "markdown",
      "metadata": {
        "id": "TA3fZP8yDpx2"
      },
      "source": [
        "Metode batch memungkinkan Anda dengan mudah mengonversi karakter individual ini menjadi urutan ukuran yang diinginkan."
      ]
    },
    {
      "cell_type": "code",
      "execution_count": null,
      "metadata": {
        "colab": {
          "base_uri": "https://localhost:8080/"
        },
        "id": "s8UJ-f14SYAI",
        "outputId": "6b18d577-c0e8-481b-a9e4-8bc09eca2b45"
      },
      "outputs": [
        {
          "name": "stdout",
          "output_type": "stream",
          "text": [
            "tf.Tensor(\n",
            "[b'F' b'i' b'r' b's' b't' b' ' b'C' b'i' b't' b'i' b'z' b'e' b'n' b':'\n",
            " b'\\n' b'B' b'e' b'f' b'o' b'r' b'e' b' ' b'w' b'e' b' ' b'p' b'r' b'o'\n",
            " b'c' b'e' b'e' b'd' b' ' b'a' b'n' b'y' b' ' b'f' b'u' b'r' b't' b'h'\n",
            " b'e' b'r' b',' b' ' b'h' b'e' b'a' b'r' b' ' b'm' b'e' b' ' b's' b'p'\n",
            " b'e' b'a' b'k' b'.' b'\\n' b'\\n' b'A' b'l' b'l' b':' b'\\n' b'S' b'p' b'e'\n",
            " b'a' b'k' b',' b' ' b's' b'p' b'e' b'a' b'k' b'.' b'\\n' b'\\n' b'F' b'i'\n",
            " b'r' b's' b't' b' ' b'C' b'i' b't' b'i' b'z' b'e' b'n' b':' b'\\n' b'Y'\n",
            " b'o' b'u' b' '], shape=(101,), dtype=string)\n"
          ]
        }
      ],
      "source": [
        "seq_length = 100\n",
        "\n",
        "# Buat batch urutan dari ids_dataset\n",
        "sequences = ids_dataset.batch(seq_length + 1, drop_remainder=True)\n",
        "\n",
        "# Cetak batch urutan pertama\n",
        "for seq in sequences.take(1):\n",
        "    print(chars_from_ids(seq))"
      ]
    },
    {
      "cell_type": "markdown",
      "metadata": {
        "id": "sj4xWOdkDsZR"
      },
      "source": [
        "akan lebih mudah untuk melihat apa yang dilakukan jika Anda menggabungkan token kembali menjadi string:"
      ]
    },
    {
      "cell_type": "code",
      "execution_count": null,
      "metadata": {
        "colab": {
          "base_uri": "https://localhost:8080/"
        },
        "id": "Ageoxph7SaQH",
        "outputId": "319d36d0-cc24-412b-9395-184df6ca2c92"
      },
      "outputs": [
        {
          "name": "stdout",
          "output_type": "stream",
          "text": [
            "b'First Citizen:\\nBefore we proceed any further, hear me speak.\\n\\nAll:\\nSpeak, speak.\\n\\nFirst Citizen:\\nYou '\n",
            "b'are all resolved rather to die than to famish?\\n\\nAll:\\nResolved. resolved.\\n\\nFirst Citizen:\\nFirst, you k'\n",
            "b\"now Caius Marcius is chief enemy to the people.\\n\\nAll:\\nWe know't, we know't.\\n\\nFirst Citizen:\\nLet us ki\"\n",
            "b\"ll him, and we'll have corn at our own price.\\nIs't a verdict?\\n\\nAll:\\nNo more talking on't; let it be d\"\n",
            "b'one: away, away!\\n\\nSecond Citizen:\\nOne word, good citizens.\\n\\nFirst Citizen:\\nWe are accounted poor citi'\n"
          ]
        }
      ],
      "source": [
        "\n",
        "for seq in sequences.take(5):\n",
        "    print(text_from_ids(seq).numpy())\n"
      ]
    },
    {
      "cell_type": "code",
      "execution_count": null,
      "metadata": {
        "id": "lDDQHYkrSugo"
      },
      "outputs": [],
      "source": [
        "def split_input_target(sequence):\n",
        "    input_text = sequence[:-1]\n",
        "    target_text = sequence[1:]\n",
        "    return input_text, target_text\n",
        "\n",
        "all_ids = ids_from_chars(tf.strings.unicode_split(text, 'UTF-8'))\n",
        "ids_dataset = tf.data.Dataset.from_tensor_slices(all_ids)\n",
        "sequences = ids_dataset.batch(seq_length + 1, drop_remainder=True)\n",
        "dataset = sequences.map(split_input_target)\n"
      ]
    },
    {
      "cell_type": "code",
      "execution_count": null,
      "metadata": {
        "id": "0TmO3JGWegwv"
      },
      "outputs": [],
      "source": [
        "dataset = sequences.map(split_input_target)"
      ]
    },
    {
      "cell_type": "code",
      "execution_count": null,
      "metadata": {
        "colab": {
          "base_uri": "https://localhost:8080/"
        },
        "id": "dy_g3Mi8enzB",
        "outputId": "e3297205-3d90-4d85-c242-e0d23a93c288"
      },
      "outputs": [
        {
          "name": "stdout",
          "output_type": "stream",
          "text": [
            "Input : b'First Citizen:\\nBefore we proceed any further, hear me speak.\\n\\nAll:\\nSpeak, speak.\\n\\nFirst Citizen:\\nYou'\n",
            "Target: b'irst Citizen:\\nBefore we proceed any further, hear me speak.\\n\\nAll:\\nSpeak, speak.\\n\\nFirst Citizen:\\nYou '\n"
          ]
        }
      ],
      "source": [
        "for input_example,target_example in dataset.take(1):\n",
        "  print(\"Input :\",text_from_ids(input_example).numpy())\n",
        "  print(\"Target:\",text_from_ids(target_example).numpy())"
      ]
    },
    {
      "cell_type": "markdown",
      "metadata": {
        "id": "zcxF0NoyDzVZ"
      },
      "source": [
        "## Membuat Batch Training"
      ]
    },
    {
      "cell_type": "code",
      "execution_count": null,
      "metadata": {
        "colab": {
          "base_uri": "https://localhost:8080/"
        },
        "id": "e_fNzL0MUFRB",
        "outputId": "f37595e1-da87-4f03-9cb3-c52bd20ea72f"
      },
      "outputs": [
        {
          "data": {
            "text/plain": [
              "<_PrefetchDataset element_spec=(TensorSpec(shape=(64, 100), dtype=tf.int64, name=None), TensorSpec(shape=(64, 100), dtype=tf.int64, name=None))>"
            ]
          },
          "execution_count": 22,
          "metadata": {},
          "output_type": "execute_result"
        }
      ],
      "source": [
        "# Batch size\n",
        "BATCH_SIZE = 64\n",
        "\n",
        "# Buffer size to shuffle the dataset\n",
        "# (TF data is designed to work with possibly infinite sequences,\n",
        "# so it doesn't attempt to shuffle the entire sequence in memory. Instead,\n",
        "# it maintains a buffer in which it shuffles elements).\n",
        "BUFFER_SIZE = 10000\n",
        "\n",
        "dataset = (\n",
        "    dataset\n",
        "    .shuffle(BUFFER_SIZE)\n",
        "    .batch(BATCH_SIZE, drop_remainder=True)\n",
        "    .prefetch(tf.data.experimental.AUTOTUNE))\n",
        "\n",
        "dataset"
      ]
    },
    {
      "cell_type": "markdown",
      "metadata": {
        "id": "p0mAwwrvWilq"
      },
      "source": [
        "## Buat Model"
      ]
    },
    {
      "cell_type": "code",
      "execution_count": null,
      "metadata": {
        "id": "AtkxGDJXV1e9"
      },
      "outputs": [],
      "source": [
        "# Length of the vocabulary in StringLookup Layer\n",
        "vocab_size = len(ids_from_chars.get_vocabulary())\n",
        "\n",
        "# The embedding dimension\n",
        "embedding_dim = 256\n",
        "\n",
        "# Number of RNN units\n",
        "rnn_units = 1024"
      ]
    },
    {
      "cell_type": "code",
      "execution_count": null,
      "metadata": {
        "id": "oxDLFfxvf2HK"
      },
      "outputs": [],
      "source": [
        "class MyModel(tf.keras.Model):\n",
        "    def __init__(self, vocab_size, embedding_dim, rnn_units):\n",
        "        super().__init__(self)\n",
        "        self.embedding = tf.keras.layers.Embedding(vocab_size, embedding_dim)\n",
        "        self.gru = tf.keras.layers.GRU(rnn_units, return_sequences=True, return_state=True)\n",
        "        self.dense = tf.keras.layers.Dense(vocab_size)\n",
        "\n",
        "    def call(self, inputs, states=None, return_state=False, training=False):\n",
        "        x = self.embedding(inputs, training=training)\n",
        "        if states is None:\n",
        "            # Menggunakan status awal default jika tidak diberikan\n",
        "            states = self.gru.get_initial_state(x)\n",
        "        x, states = self.gru(x, initial_state=states, training=training)\n",
        "        x = self.dense(x, training=training)\n",
        "\n",
        "        if return_state:\n",
        "            return x, states\n",
        "        else:\n",
        "            return x\n"
      ]
    },
    {
      "cell_type": "code",
      "execution_count": null,
      "metadata": {
        "id": "Dx-xI3ybj2ni"
      },
      "outputs": [],
      "source": [
        "class MyModel(tf.keras.Model):\n",
        "    def __init__(self, vocab_size, embedding_dim, rnn_units):\n",
        "        super().__init__()  # Memanggil konstruktor kelas induk tanpa argumen tambahan\n",
        "        self.embedding = tf.keras.layers.Embedding(vocab_size, embedding_dim)\n",
        "        self.gru = tf.keras.layers.GRU(rnn_units, return_sequences=True)\n",
        "        self.dense = tf.keras.layers.Dense(vocab_size)\n",
        "\n",
        "    def call(self, inputs):\n",
        "        x = self.embedding(inputs)\n",
        "        x = self.gru(x)\n",
        "        return self.dense(x)\n"
      ]
    },
    {
      "cell_type": "code",
      "execution_count": null,
      "metadata": {
        "id": "of0_seYPW3rT"
      },
      "outputs": [],
      "source": [
        "model = MyModel(\n",
        "    vocab_size=vocab_size,\n",
        "    embedding_dim=embedding_dim,\n",
        "    rnn_units=rnn_units)"
      ]
    },
    {
      "cell_type": "markdown",
      "metadata": {
        "id": "j5lAbjU9XG3J"
      },
      "source": [
        "## Uji Model"
      ]
    },
    {
      "cell_type": "code",
      "execution_count": null,
      "metadata": {
        "colab": {
          "base_uri": "https://localhost:8080/"
        },
        "id": "CKZa0DXqXS-M",
        "outputId": "53a6e90a-d780-4181-bb63-7641726dd5a8"
      },
      "outputs": [
        {
          "name": "stdout",
          "output_type": "stream",
          "text": [
            "(64, 100, 66) # (batch_size, sequence_length, vocab_size)\n"
          ]
        }
      ],
      "source": [
        "for input_example_batch, target_example_batch in dataset.take(1):\n",
        "    example_batch_predictions = model(input_example_batch)\n",
        "    print(example_batch_predictions.shape, \"# (batch_size, sequence_length, vocab_size)\")"
      ]
    },
    {
      "cell_type": "code",
      "execution_count": null,
      "metadata": {
        "colab": {
          "base_uri": "https://localhost:8080/",
          "height": 236
        },
        "id": "ZOynkwrFIP0m",
        "outputId": "a80a44ec-1642-4ed8-a42d-fc8e9a362be4"
      },
      "outputs": [
        {
          "data": {
            "text/html": [
              "<pre style=\"white-space:pre;overflow-x:auto;line-height:normal;font-family:Menlo,'DejaVu Sans Mono',consolas,'Courier New',monospace\"><span style=\"font-weight: bold\">Model: \"my_model\"</span>\n",
              "</pre>\n"
            ],
            "text/plain": [
              "\u001b[1mModel: \"my_model\"\u001b[0m\n"
            ]
          },
          "metadata": {},
          "output_type": "display_data"
        },
        {
          "data": {
            "text/html": [
              "<pre style=\"white-space:pre;overflow-x:auto;line-height:normal;font-family:Menlo,'DejaVu Sans Mono',consolas,'Courier New',monospace\">┏━━━━━━━━━━━━━━━━━━━━━━━━━━━━━━━━━━━━━━┳━━━━━━━━━━━━━━━━━━━━━━━━━━━━━┳━━━━━━━━━━━━━━━━━┓\n",
              "┃<span style=\"font-weight: bold\"> Layer (type)                         </span>┃<span style=\"font-weight: bold\"> Output Shape                </span>┃<span style=\"font-weight: bold\">         Param # </span>┃\n",
              "┡━━━━━━━━━━━━━━━━━━━━━━━━━━━━━━━━━━━━━━╇━━━━━━━━━━━━━━━━━━━━━━━━━━━━━╇━━━━━━━━━━━━━━━━━┩\n",
              "│ embedding (<span style=\"color: #0087ff; text-decoration-color: #0087ff\">Embedding</span>)                │ (<span style=\"color: #00af00; text-decoration-color: #00af00\">64</span>, <span style=\"color: #00af00; text-decoration-color: #00af00\">100</span>, <span style=\"color: #00af00; text-decoration-color: #00af00\">256</span>)              │          <span style=\"color: #00af00; text-decoration-color: #00af00\">16,896</span> │\n",
              "├──────────────────────────────────────┼─────────────────────────────┼─────────────────┤\n",
              "│ gru (<span style=\"color: #0087ff; text-decoration-color: #0087ff\">GRU</span>)                            │ (<span style=\"color: #00af00; text-decoration-color: #00af00\">64</span>, <span style=\"color: #00af00; text-decoration-color: #00af00\">100</span>, <span style=\"color: #00af00; text-decoration-color: #00af00\">1024</span>)             │       <span style=\"color: #00af00; text-decoration-color: #00af00\">3,938,304</span> │\n",
              "├──────────────────────────────────────┼─────────────────────────────┼─────────────────┤\n",
              "│ dense (<span style=\"color: #0087ff; text-decoration-color: #0087ff\">Dense</span>)                        │ (<span style=\"color: #00af00; text-decoration-color: #00af00\">64</span>, <span style=\"color: #00af00; text-decoration-color: #00af00\">100</span>, <span style=\"color: #00af00; text-decoration-color: #00af00\">66</span>)               │          <span style=\"color: #00af00; text-decoration-color: #00af00\">67,650</span> │\n",
              "└──────────────────────────────────────┴─────────────────────────────┴─────────────────┘\n",
              "</pre>\n"
            ],
            "text/plain": [
              "┏━━━━━━━━━━━━━━━━━━━━━━━━━━━━━━━━━━━━━━┳━━━━━━━━━━━━━━━━━━━━━━━━━━━━━┳━━━━━━━━━━━━━━━━━┓\n",
              "┃\u001b[1m \u001b[0m\u001b[1mLayer (type)                        \u001b[0m\u001b[1m \u001b[0m┃\u001b[1m \u001b[0m\u001b[1mOutput Shape               \u001b[0m\u001b[1m \u001b[0m┃\u001b[1m \u001b[0m\u001b[1m        Param #\u001b[0m\u001b[1m \u001b[0m┃\n",
              "┡━━━━━━━━━━━━━━━━━━━━━━━━━━━━━━━━━━━━━━╇━━━━━━━━━━━━━━━━━━━━━━━━━━━━━╇━━━━━━━━━━━━━━━━━┩\n",
              "│ embedding (\u001b[38;5;33mEmbedding\u001b[0m)                │ (\u001b[38;5;34m64\u001b[0m, \u001b[38;5;34m100\u001b[0m, \u001b[38;5;34m256\u001b[0m)              │          \u001b[38;5;34m16,896\u001b[0m │\n",
              "├──────────────────────────────────────┼─────────────────────────────┼─────────────────┤\n",
              "│ gru (\u001b[38;5;33mGRU\u001b[0m)                            │ (\u001b[38;5;34m64\u001b[0m, \u001b[38;5;34m100\u001b[0m, \u001b[38;5;34m1024\u001b[0m)             │       \u001b[38;5;34m3,938,304\u001b[0m │\n",
              "├──────────────────────────────────────┼─────────────────────────────┼─────────────────┤\n",
              "│ dense (\u001b[38;5;33mDense\u001b[0m)                        │ (\u001b[38;5;34m64\u001b[0m, \u001b[38;5;34m100\u001b[0m, \u001b[38;5;34m66\u001b[0m)               │          \u001b[38;5;34m67,650\u001b[0m │\n",
              "└──────────────────────────────────────┴─────────────────────────────┴─────────────────┘\n"
            ]
          },
          "metadata": {},
          "output_type": "display_data"
        },
        {
          "data": {
            "text/html": [
              "<pre style=\"white-space:pre;overflow-x:auto;line-height:normal;font-family:Menlo,'DejaVu Sans Mono',consolas,'Courier New',monospace\"><span style=\"font-weight: bold\"> Total params: </span><span style=\"color: #00af00; text-decoration-color: #00af00\">4,022,850</span> (15.35 MB)\n",
              "</pre>\n"
            ],
            "text/plain": [
              "\u001b[1m Total params: \u001b[0m\u001b[38;5;34m4,022,850\u001b[0m (15.35 MB)\n"
            ]
          },
          "metadata": {},
          "output_type": "display_data"
        },
        {
          "data": {
            "text/html": [
              "<pre style=\"white-space:pre;overflow-x:auto;line-height:normal;font-family:Menlo,'DejaVu Sans Mono',consolas,'Courier New',monospace\"><span style=\"font-weight: bold\"> Trainable params: </span><span style=\"color: #00af00; text-decoration-color: #00af00\">4,022,850</span> (15.35 MB)\n",
              "</pre>\n"
            ],
            "text/plain": [
              "\u001b[1m Trainable params: \u001b[0m\u001b[38;5;34m4,022,850\u001b[0m (15.35 MB)\n"
            ]
          },
          "metadata": {},
          "output_type": "display_data"
        },
        {
          "data": {
            "text/html": [
              "<pre style=\"white-space:pre;overflow-x:auto;line-height:normal;font-family:Menlo,'DejaVu Sans Mono',consolas,'Courier New',monospace\"><span style=\"font-weight: bold\"> Non-trainable params: </span><span style=\"color: #00af00; text-decoration-color: #00af00\">0</span> (0.00 B)\n",
              "</pre>\n"
            ],
            "text/plain": [
              "\u001b[1m Non-trainable params: \u001b[0m\u001b[38;5;34m0\u001b[0m (0.00 B)\n"
            ]
          },
          "metadata": {},
          "output_type": "display_data"
        }
      ],
      "source": [
        "model.summary()"
      ]
    },
    {
      "cell_type": "code",
      "execution_count": null,
      "metadata": {
        "id": "CaEYVhGyJCjr"
      },
      "outputs": [],
      "source": [
        "sampled_indices = tf.random.categorical(example_batch_predictions[0], num_samples=1)\n",
        "sampled_indices = tf.squeeze(sampled_indices, axis=-1).numpy()"
      ]
    },
    {
      "cell_type": "code",
      "execution_count": null,
      "metadata": {
        "colab": {
          "base_uri": "https://localhost:8080/"
        },
        "id": "dmL14l_jKY-t",
        "outputId": "8efcca69-9b04-4f92-c3d7-a32e52b89ec9"
      },
      "outputs": [
        {
          "data": {
            "text/plain": [
              "array([27, 28, 32, 12, 15, 52, 49,  0, 61, 47, 58, 15, 36, 50, 19, 31, 44,\n",
              "       46, 22, 59, 44,  2, 41, 65, 55,  6, 54, 38, 18,  4, 62, 36, 60, 33,\n",
              "       21, 28,  8,  6,  2, 44, 38, 19, 54, 46, 45, 10, 12, 11, 25, 24, 38,\n",
              "       48, 17, 31, 45, 26, 57, 55,  9, 19, 47, 12,  1,  7, 57, 25, 26, 37,\n",
              "       15,  9, 50, 29, 20, 34, 18, 63, 24, 41, 25, 48, 60, 44, 20, 33, 36,\n",
              "       46,  4, 40, 22, 10, 41, 25, 33, 60, 59, 12, 57, 47, 53, 63])"
            ]
          },
          "execution_count": 30,
          "metadata": {},
          "output_type": "execute_result"
        }
      ],
      "source": [
        "sampled_indices"
      ]
    },
    {
      "cell_type": "code",
      "execution_count": null,
      "metadata": {
        "colab": {
          "base_uri": "https://localhost:8080/"
        },
        "id": "Hnk-H086KcxN",
        "outputId": "b13aa663-cdc7-44a9-9c23-431cc45ce0fe"
      },
      "outputs": [
        {
          "name": "stdout",
          "output_type": "stream",
          "text": [
            "Input:\n",
            " b\"lk. There's other of our friends\\nWill greet us here anon, my gentle Varrius.\\n\\nISABELLA:\\nTo speak so \"\n",
            "\n",
            "Next Char Predictions:\n",
            " b\"NOS;Bmj[UNK]vhsBWkFRegIte bzp'oYE$wWuTHO-' eYFogf3;:LKYiDRfMrp.Fh;\\n,rLMXB.kPGUExKbLiueGTWg$aI3bLTut;rhnx\"\n"
          ]
        }
      ],
      "source": [
        "print(\"Input:\\n\", text_from_ids(input_example_batch[0]).numpy())\n",
        "print()\n",
        "print(\"Next Char Predictions:\\n\", text_from_ids(sampled_indices).numpy())"
      ]
    },
    {
      "cell_type": "markdown",
      "metadata": {
        "id": "3w0hzgKqKjbg"
      },
      "source": [
        "## Train Model"
      ]
    },
    {
      "cell_type": "code",
      "execution_count": null,
      "metadata": {
        "id": "gKu-fZ2oKw5s"
      },
      "outputs": [],
      "source": [
        "loss = tf.losses.SparseCategoricalCrossentropy(from_logits=True)"
      ]
    },
    {
      "cell_type": "code",
      "execution_count": null,
      "metadata": {
        "colab": {
          "base_uri": "https://localhost:8080/"
        },
        "id": "cqGFFYLzK4Ri",
        "outputId": "28fc8829-017e-4792-9245-a088ba945eab"
      },
      "outputs": [
        {
          "name": "stdout",
          "output_type": "stream",
          "text": [
            "Prediction shape:  (64, 100, 66)  # (batch_size, sequence_length, vocab_size)\n",
            "Mean loss:         tf.Tensor(4.1897807, shape=(), dtype=float32)\n"
          ]
        }
      ],
      "source": [
        "example_batch_mean_loss = loss(target_example_batch, example_batch_predictions)\n",
        "print(\"Prediction shape: \", example_batch_predictions.shape, \" # (batch_size, sequence_length, vocab_size)\")\n",
        "print(\"Mean loss:        \", example_batch_mean_loss)"
      ]
    },
    {
      "cell_type": "code",
      "execution_count": null,
      "metadata": {
        "colab": {
          "base_uri": "https://localhost:8080/"
        },
        "id": "h-nbvnK5K7cv",
        "outputId": "bce0aeb3-89d4-4963-c39c-901bee305ccb"
      },
      "outputs": [
        {
          "data": {
            "text/plain": [
              "66.008316"
            ]
          },
          "execution_count": 34,
          "metadata": {},
          "output_type": "execute_result"
        }
      ],
      "source": [
        "tf.exp(example_batch_mean_loss).numpy()"
      ]
    },
    {
      "cell_type": "code",
      "execution_count": null,
      "metadata": {
        "id": "7i8h49M3K-sI"
      },
      "outputs": [],
      "source": [
        "model.compile(optimizer='adam',loss=loss)"
      ]
    },
    {
      "cell_type": "markdown",
      "metadata": {
        "id": "HpPaqv3OLLvN"
      },
      "source": [
        "## Konfigurasi Checkpoints"
      ]
    },
    {
      "cell_type": "code",
      "execution_count": null,
      "metadata": {
        "id": "LZCoDVftLDUK"
      },
      "outputs": [],
      "source": [
        "import os\n",
        "\n",
        "# Directory where the checkpoints will be saved\n",
        "checkpoint_dir = './training_checkpoints'\n",
        "\n",
        "# Name of the checkpoint files with .weights.h5 suffix\n",
        "checkpoint_prefix = os.path.join(checkpoint_dir, \"ckpt_{epoch}.weights.h5\")\n",
        "\n",
        "checkpoint_callback = tf.keras.callbacks.ModelCheckpoint(\n",
        "    filepath=checkpoint_prefix,\n",
        "    save_weights_only=True\n",
        ")\n"
      ]
    },
    {
      "cell_type": "markdown",
      "metadata": {
        "id": "v1JOUGxZLWNs"
      },
      "source": [
        "## Lakukan Proses Training"
      ]
    },
    {
      "cell_type": "code",
      "execution_count": null,
      "metadata": {
        "id": "DKiSYDfXLZH8"
      },
      "outputs": [],
      "source": [
        "EPOCHS = 20"
      ]
    },
    {
      "cell_type": "code",
      "execution_count": null,
      "metadata": {
        "colab": {
          "background_save": true,
          "base_uri": "https://localhost:8080/"
        },
        "id": "xDhy1l65Lftx",
        "outputId": "66e55ce4-8f71-4dba-a507-310828b3a600"
      },
      "outputs": [
        {
          "name": "stdout",
          "output_type": "stream",
          "text": [
            "Epoch 1/20\n",
            "\u001b[1m172/172\u001b[0m \u001b[32m━━━━━━━━━━━━━━━━━━━━\u001b[0m\u001b[37m\u001b[0m \u001b[1m897s\u001b[0m 5s/step - loss: 3.0281\n",
            "Epoch 2/20\n",
            "\u001b[1m172/172\u001b[0m \u001b[32m━━━━━━━━━━━━━━━━━━━━\u001b[0m\u001b[37m\u001b[0m \u001b[1m952s\u001b[0m 5s/step - loss: 1.9036\n",
            "Epoch 3/20\n",
            "\u001b[1m172/172\u001b[0m \u001b[32m━━━━━━━━━━━━━━━━━━━━\u001b[0m\u001b[37m\u001b[0m \u001b[1m911s\u001b[0m 5s/step - loss: 1.6224\n",
            "Epoch 4/20\n",
            "\u001b[1m172/172\u001b[0m \u001b[32m━━━━━━━━━━━━━━━━━━━━\u001b[0m\u001b[37m\u001b[0m \u001b[1m917s\u001b[0m 5s/step - loss: 1.4733\n",
            "Epoch 5/20\n",
            "\u001b[1m172/172\u001b[0m \u001b[32m━━━━━━━━━━━━━━━━━━━━\u001b[0m\u001b[37m\u001b[0m \u001b[1m924s\u001b[0m 5s/step - loss: 1.3874\n",
            "Epoch 6/20\n",
            "\u001b[1m172/172\u001b[0m \u001b[32m━━━━━━━━━━━━━━━━━━━━\u001b[0m\u001b[37m\u001b[0m \u001b[1m895s\u001b[0m 5s/step - loss: 1.3291\n",
            "Epoch 7/20\n",
            "\u001b[1m172/172\u001b[0m \u001b[32m━━━━━━━━━━━━━━━━━━━━\u001b[0m\u001b[37m\u001b[0m \u001b[1m917s\u001b[0m 5s/step - loss: 1.2776\n",
            "Epoch 8/20\n",
            "\u001b[1m148/172\u001b[0m \u001b[32m━━━━━━━━━━━━━━━━━\u001b[0m\u001b[37m━━━\u001b[0m \u001b[1m2:06\u001b[0m 5s/step - loss: 1.2298"
          ]
        }
      ],
      "source": [
        "history = model.fit(dataset, epochs=EPOCHS, callbacks=[checkpoint_callback])"
      ]
    },
    {
      "cell_type": "markdown",
      "metadata": {
        "id": "IdYhZbC_azgc"
      },
      "source": [
        "## Generate Teks"
      ]
    },
    {
      "cell_type": "code",
      "execution_count": null,
      "metadata": {
        "id": "yOB5IqJra3OR"
      },
      "outputs": [],
      "source": [
        "class OneStep(tf.keras.Model):\n",
        "  def __init__(self, model, chars_from_ids, ids_from_chars, temperature=1.0):\n",
        "    super().__init__()\n",
        "    self.temperature = temperature\n",
        "    self.model = model\n",
        "    self.chars_from_ids = chars_from_ids\n",
        "    self.ids_from_chars = ids_from_chars\n",
        "\n",
        "    # Create a mask to prevent \"[UNK]\" from being generated.\n",
        "    skip_ids = self.ids_from_chars(['[UNK]'])[:, None]\n",
        "    sparse_mask = tf.SparseTensor(\n",
        "        # Put a -inf at each bad index.\n",
        "        values=[-float('inf')]*len(skip_ids),\n",
        "        indices=skip_ids,\n",
        "        # Match the shape to the vocabulary\n",
        "        dense_shape=[len(ids_from_chars.get_vocabulary())])\n",
        "    self.prediction_mask = tf.sparse.to_dense(sparse_mask)\n",
        "\n",
        "  @tf.function\n",
        "  def generate_one_step(self, inputs):\n",
        "    # Convert strings to token IDs\n",
        "    input_chars = tf.strings.unicode_split(inputs, 'UTF-8')\n",
        "    input_ids = self.ids_from_chars(input_chars).to_tensor()\n",
        "\n",
        "    # Run the model without states\n",
        "    predicted_logits = self.model(inputs=input_ids)  # Hilangkan states dari sini\n",
        "\n",
        "    # Only use the last prediction\n",
        "    predicted_logits = predicted_logits[:, -1, :] / self.temperature\n",
        "\n",
        "    # Apply the prediction mask\n",
        "    predicted_logits = predicted_logits + self.prediction_mask\n",
        "\n",
        "    # Sample the output logits to generate token IDs\n",
        "    predicted_ids = tf.random.categorical(predicted_logits, num_samples=1)\n",
        "    predicted_ids = tf.squeeze(predicted_ids, axis=-1)\n",
        "\n",
        "    # Convert from token ids to characters\n",
        "    predicted_chars = self.chars_from_ids(predicted_ids)\n",
        "\n",
        "    return predicted_chars\n"
      ]
    },
    {
      "cell_type": "code",
      "execution_count": null,
      "metadata": {
        "id": "PipuaZmpa5Qo"
      },
      "outputs": [],
      "source": [
        "one_step_model = OneStep(model, chars_from_ids, ids_from_chars)"
      ]
    },
    {
      "cell_type": "code",
      "execution_count": null,
      "metadata": {
        "colab": {
          "base_uri": "https://localhost:8080/"
        },
        "id": "p851eMJLmeSO",
        "outputId": "8a6eb82a-4a6e-4ce9-8826-793db5d553b5"
      },
      "outputs": [
        {
          "name": "stdout",
          "output_type": "stream",
          "text": [
            "ROMEO:\n",
            "\n",
            "BRD.\n",
            "Yor h st sellimbest htelofunort o sschin meeder whenow, houphncourenored wo wire f d me f in;\n",
            "Yor mand men:\n",
            "IO: heng, ale recut t s, agherd bl.\n",
            "Dill weren, drabyowas e ors ioocowin t,\n",
            "IETRD womuenecoulllow, l no f coraingonth uselllyonet hthe wathesirch tr m ut he y! mbrtoret sess mereyocht mpinganon:\n",
            "Y r t t I pr omyors, penonD d VORit,\n",
            "Toreelive theanencotherathusesst h,\n",
            "\n",
            "TIO:\n",
            "CAUSTom a IUxer G erdee twe, he y lld alll ayowh Cast tond s! ard a wowat:\n",
            "Lomo, tof 'd as myonthanerereradlit akey, INThous t s brexily qu you aminomellaco, ff IENCovesers,\n",
            "Why uidamy, hind d fo ifunowid ior-leabe, one,\n",
            "Juty:\n",
            "Cou der. baseagoph yorou,\n",
            "\n",
            "JUS3 ngh, t I d.\n",
            "Tean:\n",
            "IAn novellon bouseso hon\n",
            "Ande twe that bet! anisellllfoouk?\n",
            "The?\n",
            "We.\n",
            "G ckind cilit theves ts bowhal't ilally thichat gat,\n",
            "Bulllecoullor rthee br e dove cout ROLORA:\n",
            "A:\n",
            "Azeaskeprour boo; t utos:\n",
            "ISe ant sthyoverd our:\n",
            "\n",
            "Tere mascof ag is wareremy t y, pyor t,\n",
            "\n",
            "CAMy tind urt y y t, w ifrshenomous cililat,\n",
            "Ax' ur f omeseais wee, m' efor \n",
            "\n",
            "________________________________________________________________________________\n",
            "\n",
            "Run time: 2.031249761581421\n"
          ]
        }
      ],
      "source": [
        "start = time.time()\n",
        "next_char = tf.constant(['ROMEO:'])\n",
        "result = [next_char]\n",
        "\n",
        "for n in range(1000):\n",
        "    next_char = one_step_model.generate_one_step(next_char)\n",
        "    result.append(next_char)\n",
        "\n",
        "result = tf.strings.join(result)\n",
        "end = time.time()\n",
        "print(result[0].numpy().decode('utf-8'), '\\n\\n' + '_'*80)\n",
        "print('\\nRun time:', end - start)\n"
      ]
    },
    {
      "cell_type": "code",
      "execution_count": null,
      "metadata": {
        "colab": {
          "base_uri": "https://localhost:8080/"
        },
        "id": "b-ASgxnNbAPK",
        "outputId": "5723c9e8-ce87-48cd-a1d3-fc450b77f69f"
      },
      "outputs": [
        {
          "name": "stdout",
          "output_type": "stream",
          "text": [
            "tf.Tensor(\n",
            "[b\"ROMEO:\\nAnou conondraposstheleme ng suceso'stht ee athedy, mas, leap t foo ar m s:\\n\\n\\nIO: wit, teeeererito deat t at lindarest ne f dister.\\nVORI:\\nK:\\nD han y y on bu trease ire!\\nHEMETESel damoore?\\nHINGRARNTEShy chiverouthesere s relonorank:\\nCHERD pop s t, m ure mermese at imathanor the h fre hnor.\\nINF futhithenthe andstoramere inof aratiasuche uthesoforts t bu ma mobasth-f h\\nALAn lold chackit trerche whaldoul s thofo wak,\\nS:\\nF g thitt fe at bin, theees tiolen, weseyon th's he. ame\\nK:\\n\\nCRind serthatyole,\\nSENGO thes d ainde m ngllyshang gl d;\\nF t.\\nTRCid is, peree my manit;\\n\\nEN\\nY\\nSThelin, irenowint, ir\\nKESt me?\\n\\nS:\\nve INESAning derserisjurot h thel me t; lllllllld, edeake n met veam thafor.\\nHescor, sh youlll\\nCHeses jer:\\nABRICo f ulin s d il s O:\\nARI ge We,\\n\\nT:\\nCUCLE:\\n\\nI\\nCaliseate heshoul NENTin han,\\nTHAULAUENUCLAN t te t m f thid ithis, t an te! minan NTheshate\\nConowareane sthame yongomeariesesoorat fanscul shalf sst s m datyoupelll beitoregondeng llle,\\nAne tix d s ut g in; gorseck:\\nFugathe\\nanch y\"\n",
            " b\"ROMEO:\\nN methome, menit s t ithow uircot y, se halanour thee ce I defu winou len lla?\\nTETHeastoneraroungath'\\nH\\nY\\nY d an t er yoseanistow t.\\nUCA: m t nged, uthorise mithen nd t beer nd gond theallld\\n\\nsthes, Cond thiorefte ive! war y.\\n\\nI NTENI a ld I ically the f m t umentys thow ave bura alllit. fons;\\nLI anenorscr Nonofoung worsthilyonthenes LONUSbreend s s\\n\\n\\nTI's,\\n\\nHeseamourshe m se s th hede ove mpewhale t, ocheerinon, late d thongory th'lit, I somachen?\\nHelas herme I mabuknowisprye pe, quireth istlld t. ononwhanow ve lle owh thes ppr e VI an mald.\\nWivers s porestrciowethanean Byspe\\nme:\\n\\nSemeat a prsakin tor wiseats ist t t e tivet, CAnis githert s me\\n\\nD menged! bl ore\\nMy hapean; t t mpenand myo ter mecomer's he cite m h l pe wilanerebrexobee dond e.\\nBYorindan My idetounomat a! I whof t ad\\nLEToous?\\n\\nLAn cone CUSTHeliflfow thiveaindalatheve d! shof meris, lILIEORAREO: ma n\\nTI y shere, bedeed; menct y an SI'SI d p angree fof shacurthond I g lirortef wivent fistalas ded s,' co,\\nI tere GO Cilan\"\n",
            " b\"ROMEO:\\n\\nAnde\\nHAspiroury,\\nmeersitho chowiveivinderd nes amses, me n here, lige, t lalors ID:\\nAn we me Masevee I yowng fathishe.\\nTI ancedousere,\\n\\nHex llereerat,\\nHENCathes CHes;\\nA:\\n\\nAs When ghand wars;\\nAMBRAKe,\\nI t nd an,\\n\\nAESETin, ig chen t, thutery uilaie mexe vit Pheste nonome\\nStstot.\\nI illith thecody cheirill s brs ay su t chouing apis weto he isenoft mivew athese, y yongenotheseat at ts lithalisha I NBon witig mo\\nAn, beanireneshangor the bred seaing anguino ben sey tot: ote g thee:\\nNTh, nd ORilinco r methowaland un, us uthocort:\\nBEThesor upoThe be athisee allikes,\\nHory t t, th tontes hevede! we s IORon m t\\n\\nMO:\\nSe ofoome tiep,\\nWhoulla, let tees bley ho mY pisthetscousthede vene.\\nAnoure,\\nCacy't.\\nAntay t ber hellir un y, anoord hesorithendoutheret isthee:\\nLAURI cos\\nT, RAnd t uth my,\\nI we MINIEBere, my, t fafoust tyow, vemell fainderak d mert, y builans t,\\n\\nHardetileer nt thy nder d th bert a whice! buply, min't hed, Deellfou, y, I qulorenoro oute fithery f gl-de!\\nTheref n\\n\\nTI'd corte, ofonic\"\n",
            " b\"ROMEO:\\n\\nCO ntheede shar ven ch PENI meemyofavey sthe in, prousse dlleatheerooneplatiMETRe st\\nI CHI d, whingh anghit re t,\\n\\nBofalurthere ul hamp a hat.\\n\\nAr' olmeviliveean tovowoman:\\n\\nAMyorche, gorso maro,\\nAnol sthe, louk, h fouce ly anon hererer's bamasotear.\\nLATin, ke. wine nond caiouhiseng s be ice at t t, camyst I th athy,\\nNA: ad, d, thaner fomy t d theake iseyo,\\nNug leavero ond MENEYo f a urs\\nTe, ud s mar, I t,\\n\\nHevesthay cesheye d.\\n\\n\\nHouixel s; ckich ame thof a't, ge th y hwithe tofit gingifliseallle!\\nLAnd p se MINANore mevous bouterarsese ant u anard aiconouda be, the w, non.\\nHowhe.\\nTe heakellse-NZo ithe: athanck int t,\\n\\n\\n\\nI'sone how.\\nTy; INou maupuco mequth ther'de! anton ht youro;\\nHA:\\nAENIse uth hit ive thove\\nCarout t d thiveeledengre thes, t w, tce br-whe\\nINO:\\nTE owat iteat auchin lind atr he\\nI's O t da\\n\\n\\nAUChit cen s ban wers, t liclads ce t nomeprKI t\\n\\nAnd.\\nFRE, t m horefowibar\\n\\nCESthe w ano che tir\\n\\nTE d gur anor Ifon,\\nst hety, t h yonownign?\\nHE vefucom ld h.\\nVEORIORA:\\nASICENF cit\"\n",
            " b\"ROMEO:\\n\\nHEO:\\n\\n\\nT:\\n'd\\nAsacerurelot orof maththous t ofigay;\\nWapess stoo whm f be whirera thecof wofendl IURO:\\nF er momare no thitofallyorerecongerayore glly wond K:\\nHARinoco icermelamy ch il drarthord f yee s, theat fo?\\nHANole?\\nIF hioul oo.\\nAn s, yor hond co henom micheangremee g arte h tr'l m malon w d d't d ie mer, thenit, CEORCo alluconese f t cuthat th-w GRWhourt the IONI n h denak llirenjur sor,\\n\\nTomit art s, divarerat akileail lo wint tinge's dwot.\\nO: IEN s u houthetiswouthoounof y s dyous ge d I ed a'Here htha and\\nI onedeas dath bapengearatork t od he! is inounon.\\nTRIELONIO:\\nAnt cofothand, dsherar ke m brur bler tes ande ng mofofowiverer ury tomestoworersor t er thorortounanown athill mereroupay tt angetha ais thonophere ets mods;\\nLoofart\\nMI icit.\\nBY:\\nHal burede waingonoresoucalarst. s, aban we.\\nTHondembour.\\nwI al\\nCime y gasu hanisedo de, t herd d I qu mbredste maithand h\\nY ciloman, s anthorery,\\nI cotho pa achontw tithen litomat thang lder?\\nTh are clfo, me;\\nM:\\n\\nHO, ht, t tor.\\nURKIDis\\n\\n\"], shape=(5,), dtype=string) \n",
            "\n",
            "________________________________________________________________________________\n",
            "\n",
            "Run time: 2.6720080375671387\n"
          ]
        }
      ],
      "source": [
        "start = time.time()\n",
        "next_char = tf.constant(['ROMEO:', 'ROMEO:', 'ROMEO:', 'ROMEO:', 'ROMEO:'])\n",
        "result = [next_char]\n",
        "\n",
        "for n in range(1000):\n",
        "  next_char = one_step_model.generate_one_step(next_char)\n",
        "  result.append(next_char)\n",
        "\n",
        "result = tf.strings.join(result)\n",
        "end = time.time()\n",
        "print(result, '\\n\\n' + '_'*80)\n",
        "print('\\nRun time:', end - start)"
      ]
    },
    {
      "cell_type": "markdown",
      "metadata": {
        "id": "Gwn_TAHcbEdQ"
      },
      "source": [
        "## Ekspor Model Generator"
      ]
    },
    {
      "cell_type": "code",
      "execution_count": null,
      "metadata": {
        "id": "RMsEc0N0bMp_"
      },
      "outputs": [],
      "source": [
        "tf.saved_model.save(one_step_model, 'one_step')\n",
        "one_step_reloaded = tf.saved_model.load('one_step')"
      ]
    },
    {
      "cell_type": "code",
      "execution_count": null,
      "metadata": {
        "colab": {
          "base_uri": "https://localhost:8080/"
        },
        "id": "eVTgkCsxbKkm",
        "outputId": "64b04302-51c2-4f00-b63a-df4bb22b9003"
      },
      "outputs": [
        {
          "name": "stdout",
          "output_type": "stream",
          "text": [
            "ROMEO:\n",
            "Filllld,\n",
            "WAnd, mous, pee,\n",
            "STe stthore,\n",
            "I ayere,\n",
            "\n",
            "cout dsewanouin tequpaig an NCon\n",
            "Coweprellloreqush\n"
          ]
        }
      ],
      "source": [
        "next_char = tf.constant(['ROMEO:'])\n",
        "result = [next_char]\n",
        "\n",
        "for n in range(100):\n",
        "  next_char = one_step_reloaded.generate_one_step(next_char)\n",
        "  result.append(next_char)\n",
        "\n",
        "print(tf.strings.join(result)[0].numpy().decode(\"utf-8\"))"
      ]
    },
    {
      "cell_type": "markdown",
      "metadata": {
        "id": "4sLQftAqgTyp"
      },
      "source": [
        "## TUGAS"
      ]
    },
    {
      "cell_type": "code",
      "execution_count": null,
      "metadata": {
        "id": "DlDKVo37gX0t"
      },
      "outputs": [],
      "source": [
        "class CustomTraining(MyModel):\n",
        "  @tf.function\n",
        "  def train_step(self, inputs):\n",
        "    inputs, labels = inputs\n",
        "    with tf.GradientTape() as tape:\n",
        "      predictions = self(inputs, training=True)\n",
        "      loss = self.loss(labels, predictions)\n",
        "      grads = tape.gradient(loss, model.trainable_variables)\n",
        "      self.optimizer.apply_gradients(zip(grads, model.trainable_variables))\n",
        "\n",
        "      return {'loss': loss}"
      ]
    },
    {
      "cell_type": "code",
      "execution_count": null,
      "metadata": {
        "id": "cWZUj5CogZYo"
      },
      "outputs": [],
      "source": [
        "model = CustomTraining(\n",
        "    vocab_size=len(ids_from_chars.get_vocabulary()),\n",
        "    embedding_dim=embedding_dim,\n",
        "    rnn_units=rnn_units)"
      ]
    },
    {
      "cell_type": "code",
      "execution_count": null,
      "metadata": {
        "id": "5etF50HTgcY1"
      },
      "outputs": [],
      "source": [
        "model.compile(optimizer = tf.keras.optimizers.Adam(), loss=tf.keras.losses.SparseCategoricalCrossentropy(from_logits=True))"
      ]
    },
    {
      "cell_type": "code",
      "execution_count": null,
      "metadata": {
        "colab": {
          "base_uri": "https://localhost:8080/"
        },
        "id": "XOM4dq1agdv2",
        "outputId": "71f640d4-14ac-40dc-b452-61f423ad9c63"
      },
      "outputs": [
        {
          "name": "stdout",
          "output_type": "stream",
          "text": [
            "\u001b[1m172/172\u001b[0m \u001b[32m━━━━━━━━━━━━━━━━━━━━\u001b[0m\u001b[37m\u001b[0m \u001b[1m15s\u001b[0m 60ms/step - loss: 2.5174\n"
          ]
        },
        {
          "data": {
            "text/plain": [
              "<keras.src.callbacks.history.History at 0x7f065d32c970>"
            ]
          },
          "execution_count": 58,
          "metadata": {},
          "output_type": "execute_result"
        }
      ],
      "source": [
        "model.fit(dataset, epochs=1)"
      ]
    },
    {
      "cell_type": "code",
      "source": [
        "!mkdir -p /content/drive/MyDrive/model_checkpoints\n"
      ],
      "metadata": {
        "id": "g4fZMNRIp4Sh"
      },
      "execution_count": null,
      "outputs": []
    },
    {
      "cell_type": "code",
      "source": [
        "checkpoint_prefix = \"/content/drive/MyDrive/model_checkpoints/model_epoch_{epoch}.weights.h5\"\n"
      ],
      "metadata": {
        "id": "2mlNbQ6Fp8GB"
      },
      "execution_count": null,
      "outputs": []
    },
    {
      "cell_type": "code",
      "source": [
        "from google.colab import drive\n",
        "drive.mount('/content/gdrive')\n"
      ],
      "metadata": {
        "colab": {
          "base_uri": "https://localhost:8080/"
        },
        "id": "MUYqZq5rsXx_",
        "outputId": "feb6afa5-fb33-4800-fd3d-9e5e6b8f6f73"
      },
      "execution_count": null,
      "outputs": [
        {
          "output_type": "stream",
          "name": "stdout",
          "text": [
            "Mounted at /content/gdrive\n"
          ]
        }
      ]
    },
    {
      "cell_type": "code",
      "source": [
        "checkpoint_prefix = \"/content/gdrive/MyDrive/model_checkpoints/model_epoch_{epoch}.weights.h5\"\n"
      ],
      "metadata": {
        "id": "UdXScl79tBlK"
      },
      "execution_count": null,
      "outputs": []
    },
    {
      "cell_type": "code",
      "source": [
        "!mkdir -p /content/gdrive/MyDrive/model_checkpoints\n"
      ],
      "metadata": {
        "id": "1XktQS7Exd_K"
      },
      "execution_count": null,
      "outputs": []
    },
    {
      "cell_type": "code",
      "source": [
        "!ls /content/gdrive/MyDrive\n"
      ],
      "metadata": {
        "colab": {
          "base_uri": "https://localhost:8080/"
        },
        "id": "-so60c5vyKBY",
        "outputId": "94758c4e-1d1e-4233-bd2a-b1dcc9b7980c"
      },
      "execution_count": null,
      "outputs": [
        {
          "output_type": "stream",
          "name": "stdout",
          "text": [
            "model_checkpoints\n"
          ]
        }
      ]
    },
    {
      "cell_type": "code",
      "source": [
        "import tensorflow as tf\n",
        "import time\n",
        "\n",
        "# Tentukan jumlah epoch yang diinginkan\n",
        "EPOCHS = 10\n",
        "\n",
        "# Tentukan path untuk menyimpan model di Google Drive\n",
        "checkpoint_prefix = \"/content/gdrive/MyDrive/model_checkpoints/model_epoch_{epoch}.weights.h5\"\n",
        "\n",
        "\n",
        "# Inisialisasi metric Mean untuk melacak loss selama training\n",
        "mean = tf.metrics.Mean()\n",
        "\n",
        "# Loop untuk melatih model selama EPOCHS yang telah ditentukan\n",
        "for epoch in range(EPOCHS):\n",
        "    start = time.time()  # Start timer untuk menghitung waktu eksekusi setiap epoch\n",
        "\n",
        "    mean.reset_state()  # Reset state dari metric di awal setiap epoch\n",
        "\n",
        "    # Loop untuk melatih batch per batch\n",
        "    for (batch_n, (inp, target)) in enumerate(dataset):\n",
        "        logs = model.train_step([inp, target])  # Melakukan training step satu batch\n",
        "        mean.update_state(logs['loss'])  # Update nilai loss untuk setiap batch\n",
        "\n",
        "        # Tampilkan log setiap 50 batch\n",
        "        if batch_n % 50 == 0:\n",
        "            template = f\"Epoch {epoch+1} Batch {batch_n} Loss {logs['loss']:.4f}\"\n",
        "            print(template)\n",
        "\n",
        "    # Simpan model setiap 5 epoch\n",
        "    if (epoch + 1) % 5 == 0:\n",
        "        model.save_weights(checkpoint_prefix.format(epoch=epoch+1))\n",
        "\n",
        "    # Cetak loss dan waktu eksekusi untuk setiap epoch\n",
        "    print()\n",
        "    print(f'Epoch {epoch+1} Loss: {mean.result().numpy():.4f}')\n",
        "    print(f'Time taken for 1 epoch {time.time() - start:.2f} sec')\n",
        "    print(\"_\"*80)\n",
        "\n",
        "# Simpan model terakhir setelah training selesai\n",
        "model.save_weights(checkpoint_prefix.format(epoch=EPOCHS))\n"
      ],
      "metadata": {
        "colab": {
          "base_uri": "https://localhost:8080/"
        },
        "id": "l39T-Ag4yu9z",
        "outputId": "6c6faee3-7947-4719-beeb-4499b55e0168"
      },
      "execution_count": null,
      "outputs": [
        {
          "output_type": "stream",
          "name": "stdout",
          "text": [
            "Epoch 1 Batch 0 Loss 0.4176\n",
            "Epoch 1 Batch 50 Loss 0.4383\n",
            "Epoch 1 Batch 100 Loss 0.4864\n",
            "Epoch 1 Batch 150 Loss 0.5119\n",
            "\n",
            "Epoch 1 Loss: 0.4683\n",
            "Time taken for 1 epoch 20.47 sec\n",
            "________________________________________________________________________________\n",
            "Epoch 2 Batch 0 Loss 0.4422\n",
            "Epoch 2 Batch 50 Loss 0.4457\n",
            "Epoch 2 Batch 100 Loss 0.4747\n",
            "Epoch 2 Batch 150 Loss 0.5157\n",
            "\n",
            "Epoch 2 Loss: 0.4715\n",
            "Time taken for 1 epoch 12.03 sec\n",
            "________________________________________________________________________________\n",
            "Epoch 3 Batch 0 Loss 0.4298\n",
            "Epoch 3 Batch 50 Loss 0.4434\n",
            "Epoch 3 Batch 100 Loss 0.4774\n",
            "Epoch 3 Batch 150 Loss 0.5135\n",
            "\n",
            "Epoch 3 Loss: 0.4691\n",
            "Time taken for 1 epoch 20.47 sec\n",
            "________________________________________________________________________________\n",
            "Epoch 4 Batch 0 Loss 0.4198\n",
            "Epoch 4 Batch 50 Loss 0.4547\n",
            "Epoch 4 Batch 100 Loss 0.4919\n",
            "Epoch 4 Batch 150 Loss 0.5140\n",
            "\n",
            "Epoch 4 Loss: 0.4679\n",
            "Time taken for 1 epoch 11.50 sec\n",
            "________________________________________________________________________________\n",
            "Epoch 5 Batch 0 Loss 0.4246\n",
            "Epoch 5 Batch 50 Loss 0.4471\n",
            "Epoch 5 Batch 100 Loss 0.4814\n",
            "Epoch 5 Batch 150 Loss 0.5228\n",
            "\n",
            "Epoch 5 Loss: 0.4724\n",
            "Time taken for 1 epoch 20.63 sec\n",
            "________________________________________________________________________________\n",
            "Epoch 6 Batch 0 Loss 0.4282\n",
            "Epoch 6 Batch 50 Loss 0.4678\n",
            "Epoch 6 Batch 100 Loss 0.4853\n",
            "Epoch 6 Batch 150 Loss 0.5237\n",
            "\n",
            "Epoch 6 Loss: 0.4760\n",
            "Time taken for 1 epoch 20.47 sec\n",
            "________________________________________________________________________________\n",
            "Epoch 7 Batch 0 Loss 0.4230\n",
            "Epoch 7 Batch 50 Loss 0.4404\n",
            "Epoch 7 Batch 100 Loss 0.4934\n",
            "Epoch 7 Batch 150 Loss 0.5295\n",
            "\n",
            "Epoch 7 Loss: 0.4817\n",
            "Time taken for 1 epoch 12.06 sec\n",
            "________________________________________________________________________________\n",
            "Epoch 8 Batch 0 Loss 0.4431\n",
            "Epoch 8 Batch 50 Loss 0.4504\n",
            "Epoch 8 Batch 100 Loss 0.4881\n",
            "Epoch 8 Batch 150 Loss 0.5329\n",
            "\n",
            "Epoch 8 Loss: 0.4864\n",
            "Time taken for 1 epoch 12.23 sec\n",
            "________________________________________________________________________________\n",
            "Epoch 9 Batch 0 Loss 0.4543\n",
            "Epoch 9 Batch 50 Loss 0.4647\n",
            "Epoch 9 Batch 100 Loss 0.4957\n",
            "Epoch 9 Batch 150 Loss 0.5188\n",
            "\n",
            "Epoch 9 Loss: 0.4868\n",
            "Time taken for 1 epoch 11.96 sec\n",
            "________________________________________________________________________________\n",
            "Epoch 10 Batch 0 Loss 0.4575\n",
            "Epoch 10 Batch 50 Loss 0.4562\n",
            "Epoch 10 Batch 100 Loss 0.4905\n",
            "Epoch 10 Batch 150 Loss 0.5283\n",
            "\n",
            "Epoch 10 Loss: 0.4913\n",
            "Time taken for 1 epoch 11.66 sec\n",
            "________________________________________________________________________________\n"
          ]
        }
      ]
    },
    {
      "cell_type": "markdown",
      "metadata": {
        "id": "H-U9xtr8gkr8"
      },
      "source": [
        "Jalankan kode diatas dan sebutkan perbedaanya dengan praktikum 2?\n",
        "\n",
        "JAWAB :\n",
        "\n",
        "Perbedaannya terdapat pada prosedur pelatihan. Yang dimana pendekatan pelatihan yang digunakan pada praktikum 2 lebih sederhana dan umum, yaitu menggunakan metode 'model.fit'. Dan pada kode tugas menggambarkan pendekatan pelatihan yang lebih spesifik dan kompleks, yang melibatkan penggunaan metode train_step dalam model turunan untuk mengatur pelatihan pada tingkat batch."
      ]
    }
  ],
  "metadata": {
    "accelerator": "GPU",
    "colab": {
      "gpuType": "T4",
      "provenance": [],
      "include_colab_link": true
    },
    "kernelspec": {
      "display_name": "Python 3",
      "name": "python3"
    },
    "language_info": {
      "name": "python"
    }
  },
  "nbformat": 4,
  "nbformat_minor": 0
}